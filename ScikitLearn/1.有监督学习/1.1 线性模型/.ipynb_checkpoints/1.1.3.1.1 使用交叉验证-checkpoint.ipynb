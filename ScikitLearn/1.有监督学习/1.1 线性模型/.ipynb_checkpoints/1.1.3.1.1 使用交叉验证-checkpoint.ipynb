{
 "cells": [
  {
   "cell_type": "markdown",
   "id": "757bacca-4956-4cbe-8191-e3e3b9eaca53",
   "metadata": {},
   "source": [
    "scikit-learn 设置 Lasso alpha 参数是通过两个公开的对象，LassoCV 和 LassoLarsCV。其中，LassoLarsCV 是基于下面将要提到的 最小角回归 算法。"
   ]
  },
  {
   "cell_type": "markdown",
   "id": "48ab3a53-890e-4a1d-89fe-e5f8be1400d4",
   "metadata": {},
   "source": [
    "对于具有多个共线特征的高维数据集，LassoCV通常是更可取的。然而，LassoLarsCV 具有探索更多相关α参数值的有点，如果样本数相对于特征数很少，则往往比LassoCV更快"
   ]
  },
  {
   "cell_type": "code",
   "execution_count": null,
   "id": "b4b4f0fb-3bbe-4d00-ab65-91b39b6d176a",
   "metadata": {},
   "outputs": [],
   "source": [
    "import numpy as np\n",
    "from sklearn.datasets import make_regression\n",
    "from sklearn.linear_model import LassoCV, LassoLarsCV\n",
    "from sklearn.model_selection import train_test_split\n",
    "from sklearn.metrics import mean_squared_error\n",
    "\n",
    "# 生成示例数据\n",
    "X, y = make_regression(n_samples=100, n_features=10, noise=20, random_state=42)\n",
    "X_train, X_test, y_train, y_test = train_test_split(X, y, test_size=0.2, random_state=42)\n",
    "\n",
    "# 使用 LassoCV 进行模型选择\n",
    "lasso_cv = LassoCV(alphas=np.logspace(-4, 4, 100), cv=5, random_state=42)\n",
    "lasso_cv.fit(X_train, y_train)\n",
    "\n",
    "print(\"LassoCV 最佳 alpha:\", lasso_cv.alpha_)\n",
    "print(\"LassoCV 系数:\", lasso_cv.coef_)\n",
    "\n",
    "# 预测并评估\n",
    "y_pred_lasso_cv = lasso_cv.predict(X_test)\n",
    "mse_lasso_cv = mean_squared_error(y_test, y_pred_lasso_cv)\n",
    "print(f\"LassoCV 均方误差: {mse_lasso_cv:.4f}\")\n",
    "\n",
    "# 使用 LassoLarsCV 进行模型选择\n",
    "lasso_lars_cv = LassoLarsCV(alphas=np.logspace(-4, 4, 100), cv=5)\n",
    "lasso_lars_cv.fit(X_train, y_train)\n",
    "\n",
    "print(\"\\nLassoLarsCV 最佳 alpha:\", lasso_lars_cv.alpha_)\n",
    "print(\"LassoLarsCV 系数:\", lasso_lars_cv.coef_)\n",
    "\n",
    "# 预测并评估\n",
    "y_pred_lasso_lars_cv = lasso_lars_cv.predict(X_test)\n",
    "mse_lasso_lars_cv = mean_squared_error(y_test, y_pred_lasso_lars_cv)\n",
    "print(f\"LassoLarsCV 均方误差: {mse_lasso_lars_cv:.4f}\")    "
   ]
  },
  {
   "cell_type": "markdown",
   "id": "12d8e00e-f127-4f62-a230-8746a9911f6e",
   "metadata": {},
   "source": [
    "LassoCV 在训练完成后会自动使用交叉验证找到的最佳 alpha 对应的系数进行预测。下面详细解释其内部原理和实现细节："
   ]
  },
  {
   "cell_type": "markdown",
   "id": "9a0025c5-abac-4724-a6b5-7e536b87da93",
   "metadata": {},
   "source": [
    "### LassoCV 内部原理"
   ]
  },
  {
   "cell_type": "markdown",
   "id": "606a916c-7382-4b12-9c48-a0258c8ac52c",
   "metadata": {},
   "source": [
    "LassoCV 是一种通过交叉验证自动选择最优正则化参数 alpha 的 Lasso 回归方法。其核心步骤如下："
   ]
  },
  {
   "cell_type": "markdown",
   "id": "9ff2becb-b3e8-4201-af94-348d348bbc23",
   "metadata": {},
   "source": [
    "1. 定义候选 alpha 列表  \n",
    "    用户可以通过 alphas 参数指定一组候选的 alpha 值（默认会自动生成一个合理范围）。\n",
    "2. 交叉验证  \n",
    "    对每个候选 alpha 值：\n",
    " - 将训练数据分为 cv 个子集（默认 cv=5）。\n",
    " - 在 cv-1 个子集上训练 Lasso 模型，在剩余子集上评估性能（默认使用均方误差 MSE）。\n",
    " - 重复此过程 cv 次，计算平均验证误差。\n",
    "3. 选择最优 alpha  \n",
    "    选择平均验证误差最小的 alpha 值作为最优参数。\n",
    "4. 最终模型训练  \n",
    "    使用全部训练数据和最优 alpha 重新训练模型，得到最终系数 coef_。"
   ]
  },
  {
   "cell_type": "markdown",
   "id": "993daed0-b1fc-4aef-9ba6-7528538ddffb",
   "metadata": {},
   "source": [
    "### 预测机制"
   ]
  },
  {
   "cell_type": "markdown",
   "id": "77aca30f-8f67-42f1-89aa-6806d50d33a1",
   "metadata": {},
   "source": [
    "当你调用 lasso_cv.predict(X_test) 时，LassoCV 会直接使用步骤 4 中训练好的模型（即最优 alpha 对应的系数）进行预测。这一过程是自动的，无需手动指定 alpha。"
   ]
  },
  {
   "cell_type": "code",
   "execution_count": 4,
   "id": "507604fb-baa9-4817-a4f0-6e881889cee6",
   "metadata": {},
   "outputs": [
    {
     "name": "stdout",
     "output_type": "stream",
     "text": [
      "最优 alpha: 0.0001\n"
     ]
    },
    {
     "ename": "AttributeError",
     "evalue": "'LassoCV' object has no attribute 'coef_path_'",
     "output_type": "error",
     "traceback": [
      "\u001b[31m---------------------------------------------------------------------------\u001b[39m",
      "\u001b[31mAttributeError\u001b[39m                            Traceback (most recent call last)",
      "\u001b[36mCell\u001b[39m\u001b[36m \u001b[39m\u001b[32mIn[4]\u001b[39m\u001b[32m, line 16\u001b[39m\n\u001b[32m     13\u001b[39m \u001b[38;5;28mprint\u001b[39m(\u001b[33m\"\u001b[39m\u001b[33m最优 alpha:\u001b[39m\u001b[33m\"\u001b[39m, lasso_cv.alpha_)  \u001b[38;5;66;03m# 例如：0.01\u001b[39;00m\n\u001b[32m     15\u001b[39m \u001b[38;5;66;03m# 手动验证：对每个 alpha，获取交叉验证的系数路径\u001b[39;00m\n\u001b[32m---> \u001b[39m\u001b[32m16\u001b[39m coef_paths = \u001b[43mlasso_cv\u001b[49m\u001b[43m.\u001b[49m\u001b[43mcoef_path_\u001b[49m  \u001b[38;5;66;03m# shape: (n_alphas, n_features)\u001b[39;00m\n\u001b[32m     17\u001b[39m best_alpha_idx = np.argmin(lasso_cv.mse_path_.mean(axis=\u001b[32m1\u001b[39m))\n\u001b[32m     19\u001b[39m \u001b[38;5;66;03m# 比较自动选择的系数 vs 手动提取的最优 alpha 对应的系数\u001b[39;00m\n",
      "\u001b[31mAttributeError\u001b[39m: 'LassoCV' object has no attribute 'coef_path_'"
     ]
    }
   ],
   "source": [
    "from sklearn.datasets import make_regression\n",
    "from sklearn.linear_model import LassoCV\n",
    "import numpy as np\n",
    "\n",
    "# 生成数据\n",
    "X, y = make_regression(n_samples=100, n_features=10, noise=20, random_state=42)\n",
    "\n",
    "# 训练 LassoCV\n",
    "lasso_cv = LassoCV(alphas=np.logspace(-4, 4, 5), cv=3, random_state=42)\n",
    "lasso_cv.fit(X, y)\n",
    "\n",
    "# 验证最优 alpha 和系数\n",
    "print(\"最优 alpha:\", lasso_cv.alpha_)  # 例如：0.01\n",
    "\n",
    "# 手动验证：对每个 alpha，获取交叉验证的系数路径\n",
    "coef_paths = lasso_cv.coef_path_  # shape: (n_alphas, n_features)\n",
    "best_alpha_idx = np.argmin(lasso_cv.mse_path_.mean(axis=1))\n",
    "\n",
    "# 比较自动选择的系数 vs 手动提取的最优 alpha 对应的系数\n",
    "print(\"自动选择的系数:\", lasso_cv.coef_)\n",
    "print(\"手动提取的最优系数:\", coef_paths[best_alpha_idx])\n",
    "\n",
    "# 验证结果：两者完全一致"
   ]
  },
  {
   "cell_type": "code",
   "execution_count": null,
   "id": "fa5d5a21-67dc-4002-9e08-ea4aa6539bb8",
   "metadata": {},
   "outputs": [],
   "source": []
  }
 ],
 "metadata": {
  "kernelspec": {
   "display_name": "Python 3 (ipykernel)",
   "language": "python",
   "name": "python3"
  },
  "language_info": {
   "codemirror_mode": {
    "name": "ipython",
    "version": 3
   },
   "file_extension": ".py",
   "mimetype": "text/x-python",
   "name": "python",
   "nbconvert_exporter": "python",
   "pygments_lexer": "ipython3",
   "version": "3.11.6"
  }
 },
 "nbformat": 4,
 "nbformat_minor": 5
}
