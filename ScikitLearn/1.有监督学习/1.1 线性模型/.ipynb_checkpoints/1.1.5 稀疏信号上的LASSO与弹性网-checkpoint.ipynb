{
 "cells": [
  {
   "cell_type": "code",
   "execution_count": 1,
   "id": "14905237-135a-4a2e-8a46-7c012fbfdf87",
   "metadata": {},
   "outputs": [],
   "source": [
    "import numpy as np\n",
    "import matplotlib.pyplot as plt\n",
    "\n",
    "from sklearn.metrics import r2_score"
   ]
  },
  {
   "cell_type": "code",
   "execution_count": 2,
   "id": "2636af57-d8cd-4673-ba2d-6394533e8f59",
   "metadata": {},
   "outputs": [],
   "source": [
    "np.random.seed(42)"
   ]
  },
  {
   "cell_type": "code",
   "execution_count": 4,
   "id": "da343320-148e-4e44-a792-9c52d26db329",
   "metadata": {},
   "outputs": [],
   "source": [
    "n_samples, n_features = 50, 100\n",
    "X = np.random.randn(n_samples, n_features)"
   ]
  },
  {
   "cell_type": "code",
   "execution_count": 6,
   "id": "7b6fcb09-569a-4e18-ae4b-f7d4c289fbb0",
   "metadata": {},
   "outputs": [
    {
     "data": {
      "text/plain": [
       "(50, 100)"
      ]
     },
     "execution_count": 6,
     "metadata": {},
     "output_type": "execute_result"
    }
   ],
   "source": [
    "X.shape"
   ]
  },
  {
   "cell_type": "code",
   "execution_count": 8,
   "id": "4ba25e1c-28ba-4908-a694-1305fdec13d2",
   "metadata": {},
   "outputs": [],
   "source": [
    "idx = np.arange(n_features)"
   ]
  },
  {
   "cell_type": "code",
   "execution_count": 9,
   "id": "a388fa5f-e8b2-4fc3-b8ef-d668566ef331",
   "metadata": {},
   "outputs": [
    {
     "data": {
      "text/plain": [
       "array([ 0,  1,  2,  3,  4,  5,  6,  7,  8,  9, 10, 11, 12, 13, 14, 15, 16,\n",
       "       17, 18, 19, 20, 21, 22, 23, 24, 25, 26, 27, 28, 29, 30, 31, 32, 33,\n",
       "       34, 35, 36, 37, 38, 39, 40, 41, 42, 43, 44, 45, 46, 47, 48, 49, 50,\n",
       "       51, 52, 53, 54, 55, 56, 57, 58, 59, 60, 61, 62, 63, 64, 65, 66, 67,\n",
       "       68, 69, 70, 71, 72, 73, 74, 75, 76, 77, 78, 79, 80, 81, 82, 83, 84,\n",
       "       85, 86, 87, 88, 89, 90, 91, 92, 93, 94, 95, 96, 97, 98, 99])"
      ]
     },
     "execution_count": 9,
     "metadata": {},
     "output_type": "execute_result"
    }
   ],
   "source": [
    "idx"
   ]
  },
  {
   "cell_type": "code",
   "execution_count": 20,
   "id": "9147a056-20e1-4fc4-83e2-a99cb6c45e3b",
   "metadata": {},
   "outputs": [],
   "source": [
    "coef = (-1) ** idx * np.exp(-idx / 10)\n",
    "coef[10:] = 0  # sparsify coef"
   ]
  },
  {
   "cell_type": "code",
   "execution_count": 21,
   "id": "9e014be1-1864-40d6-a0e3-e1aed890dc51",
   "metadata": {},
   "outputs": [
    {
     "data": {
      "text/plain": [
       "array([ 1.        , -0.90483742,  0.81873075, -0.74081822,  0.67032005,\n",
       "       -0.60653066,  0.54881164, -0.4965853 ,  0.44932896, -0.40656966,\n",
       "        0.        ,  0.        ,  0.        ,  0.        ,  0.        ,\n",
       "        0.        ,  0.        ,  0.        ,  0.        ,  0.        ,\n",
       "        0.        ,  0.        ,  0.        ,  0.        ,  0.        ,\n",
       "        0.        ,  0.        ,  0.        ,  0.        ,  0.        ,\n",
       "        0.        ,  0.        ,  0.        ,  0.        ,  0.        ,\n",
       "        0.        ,  0.        ,  0.        ,  0.        ,  0.        ,\n",
       "        0.        ,  0.        ,  0.        ,  0.        ,  0.        ,\n",
       "        0.        ,  0.        ,  0.        ,  0.        ,  0.        ,\n",
       "        0.        ,  0.        ,  0.        ,  0.        ,  0.        ,\n",
       "        0.        ,  0.        ,  0.        ,  0.        ,  0.        ,\n",
       "        0.        ,  0.        ,  0.        ,  0.        ,  0.        ,\n",
       "        0.        ,  0.        ,  0.        ,  0.        ,  0.        ,\n",
       "        0.        ,  0.        ,  0.        ,  0.        ,  0.        ,\n",
       "        0.        ,  0.        ,  0.        ,  0.        ,  0.        ,\n",
       "        0.        ,  0.        ,  0.        ,  0.        ,  0.        ,\n",
       "        0.        ,  0.        ,  0.        ,  0.        ,  0.        ,\n",
       "        0.        ,  0.        ,  0.        ,  0.        ,  0.        ,\n",
       "        0.        ,  0.        ,  0.        ,  0.        ,  0.        ])"
      ]
     },
     "execution_count": 21,
     "metadata": {},
     "output_type": "execute_result"
    }
   ],
   "source": [
    "coef"
   ]
  },
  {
   "cell_type": "code",
   "execution_count": 22,
   "id": "4ee75412-4be5-4f0a-9885-40fff41372d2",
   "metadata": {},
   "outputs": [],
   "source": [
    "y = np.dot(X, coef)"
   ]
  },
  {
   "cell_type": "code",
   "execution_count": 23,
   "id": "b29861f1-dc26-4246-bb8d-439a6ee4a01c",
   "metadata": {},
   "outputs": [
    {
     "data": {
      "text/plain": [
       "array([ 0.06292533,  0.02027361, -1.70569871,  1.0753583 , -2.43238897,\n",
       "       -2.04075078, -0.77617434, -5.61548163,  3.01026713, -1.80541526,\n",
       "        2.18524849,  6.60639307, -1.17808822,  0.07039998, -1.53650035,\n",
       "        0.11732823, -1.60082084, -0.21110408,  1.06922465,  0.44500114,\n",
       "       -2.04229808, -3.35094382,  3.09433561,  1.21000776, -1.11317592,\n",
       "        0.58110788, -1.73463265, -0.90387883,  0.79483421, -2.22509342,\n",
       "        0.02985548, -1.66320825, -1.80811781,  3.12248145,  1.41680322,\n",
       "        2.89270497,  1.10558166, -1.44496167, -1.00405823,  4.89291424,\n",
       "       -4.09458174, -1.55472027,  3.35712897, -1.02263181, -2.04358273,\n",
       "       -1.14022278, -1.05841476,  2.3547126 ,  0.81505857,  0.58889492])"
      ]
     },
     "execution_count": 23,
     "metadata": {},
     "output_type": "execute_result"
    }
   ],
   "source": [
    "y"
   ]
  },
  {
   "cell_type": "code",
   "execution_count": 24,
   "id": "71c50a43-eaf3-46d0-a403-b82876a4bdf8",
   "metadata": {},
   "outputs": [],
   "source": [
    "# Add noise\n",
    "y += 0.01 * np.random.normal(size=n_samples)"
   ]
  },
  {
   "cell_type": "code",
   "execution_count": 25,
   "id": "7addc56f-a4ed-4381-b1fb-d85e9b1acc1c",
   "metadata": {},
   "outputs": [],
   "source": [
    "# Split data in train set and test set\n",
    "n_samples = X.shape[0]\n",
    "X_train, y_train = X[:n_samples // 2], y[:n_samples // 2]\n",
    "X_test, y_test = X[n_samples // 2:], y[n_samples // 2:]"
   ]
  },
  {
   "cell_type": "code",
   "execution_count": 31,
   "id": "3ceef887-5a0f-42a2-8ada-e66ef446ae07",
   "metadata": {},
   "outputs": [
    {
     "name": "stdout",
     "output_type": "stream",
     "text": [
      "(25, 100)\n",
      "(25,)\n"
     ]
    }
   ],
   "source": [
    "print(X_train.shape)\n",
    "print(y_train.shape)"
   ]
  },
  {
   "cell_type": "code",
   "execution_count": 26,
   "id": "605e0f13-6c78-4232-9da0-aab0477c39a2",
   "metadata": {},
   "outputs": [
    {
     "name": "stdout",
     "output_type": "stream",
     "text": [
      "Lasso(alpha=0.1)\n",
      "r^2 on test data : 0.658064\n"
     ]
    }
   ],
   "source": [
    "# #############################################################################\n",
    "# Lasso\n",
    "from sklearn.linear_model import Lasso\n",
    "\n",
    "alpha = 0.1\n",
    "lasso = Lasso(alpha=alpha)\n",
    "\n",
    "y_pred_lasso = lasso.fit(X_train, y_train).predict(X_test)\n",
    "r2_score_lasso = r2_score(y_test, y_pred_lasso)\n",
    "print(lasso)\n",
    "print(\"r^2 on test data : %f\" % r2_score_lasso)"
   ]
  },
  {
   "cell_type": "code",
   "execution_count": 27,
   "id": "de787e3d-8689-4ffd-9a7b-6f7d33ec2eef",
   "metadata": {},
   "outputs": [
    {
     "name": "stdout",
     "output_type": "stream",
     "text": [
      "ElasticNet(alpha=0.1, l1_ratio=0.7)\n",
      "r^2 on test data : 0.642515\n"
     ]
    }
   ],
   "source": [
    "# #############################################################################\n",
    "# ElasticNet\n",
    "from sklearn.linear_model import ElasticNet\n",
    "\n",
    "enet = ElasticNet(alpha=alpha, l1_ratio=0.7)\n",
    "\n",
    "y_pred_enet = enet.fit(X_train, y_train).predict(X_test)\n",
    "r2_score_enet = r2_score(y_test, y_pred_enet)\n",
    "print(enet)\n",
    "print(\"r^2 on test data : %f\" % r2_score_enet)"
   ]
  },
  {
   "cell_type": "code",
   "execution_count": 29,
   "id": "3bc59ccd-4e91-4b70-8b44-a646f603bf37",
   "metadata": {},
   "outputs": [
    {
     "data": {
      "image/png": "[encoded data removed]",
      "text/plain": [
       "<Figure size 640x480 with 1 Axes>"
      ]
     },
     "metadata": {},
     "output_type": "display_data"
    }
   ],
   "source": [
    "m, s, _ = plt.stem(np.where(enet.coef_)[0], enet.coef_[enet.coef_ != 0],\n",
    "                   markerfmt='x', label='Elastic net coefficients')\n",
    "plt.setp([m, s], color=\"#2ca02c\")\n",
    "\n",
    "m, s, _ = plt.stem(np.where(lasso.coef_)[0], lasso.coef_[lasso.coef_ != 0],\n",
    "                   markerfmt='x', label='Lasso coefficients')\n",
    "plt.setp([m, s], color='#ff7f0e')\n",
    "\n",
    "plt.stem(np.where(coef)[0], coef[coef != 0], label='true coefficients',\n",
    "         markerfmt='bx')\n",
    "\n",
    "plt.legend(loc='best')\n",
    "plt.title(\"Lasso $R^2$: %.3f, Elastic Net $R^2$: %.3f\"\n",
    "          % (r2_score_lasso, r2_score_enet))\n",
    "plt.show()"
   ]
  },
  {
   "cell_type": "code",
   "execution_count": null,
   "id": "d2847101-b15a-4dbd-8c8a-137c5215f47a",
   "metadata": {},
   "outputs": [],
   "source": []
  }
 ],
 "metadata": {
  "kernelspec": {
   "display_name": "Python 3 (ipykernel)",
   "language": "python",
   "name": "python3"
  },
  "language_info": {
   "codemirror_mode": {
    "name": "ipython",
    "version": 3
   },
   "file_extension": ".py",
   "mimetype": "text/x-python",
   "name": "python",
   "nbconvert_exporter": "python",
   "pygments_lexer": "ipython3",
   "version": "3.11.6"
  }
 },
 "nbformat": 4,
 "nbformat_minor": 5
}
