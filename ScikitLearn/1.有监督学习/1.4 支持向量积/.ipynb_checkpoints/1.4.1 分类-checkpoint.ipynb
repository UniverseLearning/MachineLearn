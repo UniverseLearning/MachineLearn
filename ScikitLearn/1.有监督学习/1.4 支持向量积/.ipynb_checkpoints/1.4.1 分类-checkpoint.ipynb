{
 "cells": [
  {
   "cell_type": "markdown",
   "id": "8eb266c8-d372-4828-b3b6-5613b16c9962",
   "metadata": {},
   "source": [
    "SVC 和 NuSVC是相似的方法，但是接受的参数的集合稍微不同并且有不同的数学公式。另一方面，LinearSVC 是使用线性核的支持向量分类的另一种实现，适用于线性核的情况。注意，LinearSVC不接受关键字内核，因为假设是线性的。它还会缺少 SVC 和 NuSVC的一些属性，如Support_。"
   ]
  },
  {
   "cell_type": "markdown",
   "id": "92febb39-2d8b-4671-879e-bfef97045342",
   "metadata": {},
   "source": [
    "和其他分类器一样，SVC，NuSVC 和 LinearSVC 需要两个数组作为输入，[n_samples, nfeatures]尺寸的数组X作为训练样本，[n_samples]大小的数组y作为类别标签："
   ]
  },
  {
   "cell_type": "code",
   "execution_count": null,
   "id": "08b0e7c0-03a1-45c3-9a68-a874b8bf0bb2",
   "metadata": {},
   "outputs": [],
   "source": []
  }
 ],
 "metadata": {
  "kernelspec": {
   "display_name": "Python 3 (ipykernel)",
   "language": "python",
   "name": "python3"
  },
  "language_info": {
   "codemirror_mode": {
    "name": "ipython",
    "version": 3
   },
   "file_extension": ".py",
   "mimetype": "text/x-python",
   "name": "python",
   "nbconvert_exporter": "python",
   "pygments_lexer": "ipython3",
   "version": "3.11.6"
  }
 },
 "nbformat": 4,
 "nbformat_minor": 5
}
