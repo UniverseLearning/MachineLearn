{
 "cells": [
  {
   "cell_type": "markdown",
   "id": "dc143b4e-2d74-4469-8229-03c67d7a828a",
   "metadata": {},
   "source": [
    "支持向量机（SVMs）是一种用于分类、回归和异常检测的有监督学习方法。  "
   ]
  },
  {
   "cell_type": "markdown",
   "id": "146b7ecf-3f31-4303-831b-d68ae09acdbe",
   "metadata": {},
   "source": [
    "支持向量机的优点有：\n",
    "* 在高维空间里也非常有效\n",
    "* 对于数据维度远高于数据样本量的情况也有效\n",
    "* 在决策函数中使用训练集的子集（也称为支持向量），因此也是内存高效利用的。\n",
    "* 通用性，可以为决策函数指定不同的 核函数。已经提供了通用核函数，但也可以指定自定义核函数。"
   ]
  },
  {
   "cell_type": "markdown",
   "id": "c40a1fbf-5b48-42c8-b953-41a3623f4de2",
   "metadata": {},
   "source": [
    "支持向量机的缺点包括：\n",
    "* 如果特征数量远远大于样本数，则在选择 核函数 和正则化项时要避免过度拟合。\n",
    "* SVMs 不直接提供概率估计，这些计算使用昂贵的五倍交叉验证"
   ]
  },
  {
   "cell_type": "markdown",
   "id": "cd268db0-db03-4f92-806a-a973c2ee206b",
   "metadata": {},
   "source": [
    "scikit-learn中的支持向量机-同时支持稠密(dense) (numpy.ndarray和可通过numpy.asarray转换) 和稀疏(sparse)(任意的scipy.sparse)样本向量作为输入。然而，若要使用支持向量机对稀疏数据进行预测，则必须在这样的数据上进行拟合。要获得最佳性能， 可使用C_ordered的numpy.ndarray对象(稠密 dense)，或者使用数据类型是dtype=float64的 scipy.sparse.csr_matrix 对象(稀疏 sparse)。"
   ]
  },
  {
   "cell_type": "code",
   "execution_count": null,
   "id": "512232a7-3a6d-4646-8a7b-81bc202f94dc",
   "metadata": {},
   "outputs": [],
   "source": []
  }
 ],
 "metadata": {
  "kernelspec": {
   "display_name": "Python 3 (ipykernel)",
   "language": "python",
   "name": "python3"
  },
  "language_info": {
   "codemirror_mode": {
    "name": "ipython",
    "version": 3
   },
   "file_extension": ".py",
   "mimetype": "text/x-python",
   "name": "python",
   "nbconvert_exporter": "python",
   "pygments_lexer": "ipython3",
   "version": "3.11.6"
  }
 },
 "nbformat": 4,
 "nbformat_minor": 5
}
