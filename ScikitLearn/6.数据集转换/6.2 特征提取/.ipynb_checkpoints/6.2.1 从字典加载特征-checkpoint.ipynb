{
 "cells": [
  {
   "cell_type": "markdown",
   "id": "e369775b-e1ed-4260-bd30-358dc2dcc099",
   "metadata": {},
   "source": [
    "## DictVectorizer 方法解释    \n",
    "DictVectorizer 是 scikit-learn 中的一个实用工具，用于将字典形式的数据转换为机器学习模型可处理的特征矩阵。主要用于处理包含字符串或分类特征的字典数据，将其转换为数值型的稀疏矩阵或密集矩阵。"
   ]
  },
  {
   "cell_type": "markdown",
   "id": "0dc0db4a-0d56-4cb8-8c6f-658921083f8a",
   "metadata": {},
   "source": [
    "## 核心方法与参数\n",
    "1. fit(X, y=None)\n",
    " * 作用：从训练数据中学习特征名称和对应索引\n",
    " * 参数：\n",
    "    - X：字典列表，每个字典表示一个样本\n",
    "    - y：可选参数，通常忽略\n",
    "2. transform(X)\n",
    " * 作用：将字典数据转换为特征矩阵\n",
    " * 返回：\n",
    "    - 稀疏矩阵（默认）或密集矩阵（当 sparse=False 时）\n",
    "3. fit_transform(X, y=None)\n",
    " * 作用：合并 fit 和 transform 操作，更高效\n",
    "4. get_feature_names_out()\n",
    " * 作用：返回转换后的特征名称列表\n",
    "5. 主要参数：\n",
    " * sparse=True：是否返回稀疏矩阵\n",
    " * dtype=np.float64：输出矩阵的数据类型\n",
    " * separator='='：字符串特征的分隔符"
   ]
  },
  {
   "cell_type": "markdown",
   "id": "faf800c2-ebb0-4d9b-827c-575be90126a5",
   "metadata": {},
   "source": [
    "## 样例代码    \n",
    "以下是一个完整的示例，展示如何使用 DictVectorizer 处理包含分类和数值特征的字典数据："
   ]
  },
  {
   "cell_type": "code",
   "execution_count": 1,
   "id": "26345160-58db-4c01-80c5-9eaead73c88b",
   "metadata": {},
   "outputs": [
    {
     "name": "stdout",
     "output_type": "stream",
     "text": [
      "特征名称: ['city=上海' 'city=北京' 'city=广州' 'humidity=high' 'humidity=low'\n",
      " 'humidity=medium' 'temperature']\n",
      "\n",
      "特征矩阵:\n",
      " [[ 0.  1.  0.  1.  0.  0. 22.]\n",
      " [ 1.  0.  0.  0.  0.  1. 28.]\n",
      " [ 0.  0.  1.  1.  0.  0. 30.]\n",
      " [ 0.  1.  0.  0.  1.  0. 18.]]\n",
      "\n",
      "新样本转换结果:\n",
      " [[ 1.  0.  0.  0.  1.  0. 25.]]\n",
      "\n",
      "反向转换结果:\n",
      " [{'city=北京': np.float64(1.0), 'humidity=high': np.float64(1.0), 'temperature': np.float64(22.0)}, {'city=上海': np.float64(1.0), 'humidity=medium': np.float64(1.0), 'temperature': np.float64(28.0)}, {'city=广州': np.float64(1.0), 'humidity=high': np.float64(1.0), 'temperature': np.float64(30.0)}, {'city=北京': np.float64(1.0), 'humidity=low': np.float64(1.0), 'temperature': np.float64(18.0)}]\n"
     ]
    }
   ],
   "source": [
    "from sklearn.feature_extraction import DictVectorizer\n",
    "import numpy as np\n",
    "\n",
    "# 示例数据：用户信息字典列表\n",
    "data = [\n",
    "    {'city': '北京', 'temperature': 22, 'humidity': 'high'},\n",
    "    {'city': '上海', 'temperature': 28, 'humidity': 'medium'},\n",
    "    {'city': '广州', 'temperature': 30, 'humidity': 'high'},\n",
    "    {'city': '北京', 'temperature': 18, 'humidity': 'low'}\n",
    "]\n",
    "\n",
    "# 创建 DictVectorizer 实例\n",
    "vectorizer = DictVectorizer(sparse=False)\n",
    "\n",
    "# 拟合数据并转换\n",
    "X = vectorizer.fit_transform(data)\n",
    "\n",
    "# 查看特征名称\n",
    "feature_names = vectorizer.get_feature_names_out()\n",
    "print(\"特征名称:\", feature_names)\n",
    "\n",
    "# 查看转换后的特征矩阵\n",
    "print(\"\\n特征矩阵:\\n\", X)\n",
    "\n",
    "# 转换单个新样本\n",
    "new_sample = {'city': '上海', 'temperature': 25, 'humidity': 'low'}\n",
    "new_X = vectorizer.transform([new_sample])\n",
    "print(\"\\n新样本转换结果:\\n\", new_X)\n",
    "\n",
    "# 反向转换：从特征矩阵还原为字典\n",
    "reverse_transformed = vectorizer.inverse_transform(X)\n",
    "print(\"\\n反向转换结果:\\n\", reverse_transformed)"
   ]
  },
  {
   "cell_type": "markdown",
   "id": "fce9e1d3-5a6d-47b6-87ed-602697f5d9b8",
   "metadata": {},
   "source": [
    "## 应用场景\n",
    " * 自然语言处理：处理文本特征\n",
    " * 数据预处理：将非结构化数据转换为模型可接受的格式\n",
    " * 特征工程：快速生成特征矩阵，支持后续机器学习算法"
   ]
  }
 ],
 "metadata": {
  "kernelspec": {
   "display_name": "Python 3 (ipykernel)",
   "language": "python",
   "name": "python3"
  },
  "language_info": {
   "codemirror_mode": {
    "name": "ipython",
    "version": 3
   },
   "file_extension": ".py",
   "mimetype": "text/x-python",
   "name": "python",
   "nbconvert_exporter": "python",
   "pygments_lexer": "ipython3",
   "version": "3.11.6"
  }
 },
 "nbformat": 4,
 "nbformat_minor": 5
}
