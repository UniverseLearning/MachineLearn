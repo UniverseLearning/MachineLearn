{
 "cells": [
  {
   "cell_type": "markdown",
   "id": "f127d9f4-65cf-4049-9305-c308ce475ee1",
   "metadata": {},
   "source": [
    "sklearn.preprocession 包提供了几个常用的实用函数和转换器类，用以将原始特征向量更改为更适合下游估计器的表示形式。    \n",
    "    通常，学习算法受益于数据集的标准化。如果数据集中存在一些异常值，则更适合使用健壮的缩放器或转换器。不同缩放器，转换器和规范化器在包含边缘异常值的数据集上的行为突出显示"
   ]
  },
  {
   "cell_type": "code",
   "execution_count": null,
   "id": "bb7f0f9e-5a6d-41e5-9cdb-adc9e9050813",
   "metadata": {},
   "outputs": [],
   "source": []
  }
 ],
 "metadata": {
  "kernelspec": {
   "display_name": "Python 3 (ipykernel)",
   "language": "python",
   "name": "python3"
  },
  "language_info": {
   "codemirror_mode": {
    "name": "ipython",
    "version": 3
   },
   "file_extension": ".py",
   "mimetype": "text/x-python",
   "name": "python",
   "nbconvert_exporter": "python",
   "pygments_lexer": "ipython3",
   "version": "3.11.6"
  }
 },
 "nbformat": 4,
 "nbformat_minor": 5
}
