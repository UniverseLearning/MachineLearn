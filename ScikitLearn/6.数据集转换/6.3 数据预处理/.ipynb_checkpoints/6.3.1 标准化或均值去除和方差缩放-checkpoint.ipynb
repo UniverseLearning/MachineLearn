{
 "cells": [
  {
   "cell_type": "markdown",
   "id": "8ac84827-fb68-43bc-b485-b9acee227bc3",
   "metadata": {},
   "source": [
    "数据集的标准化是 scikit-learn 中实现许多机器学习评估器的普遍要求；如果个别特征看起来或多或少不像标准正太分布数据（均值和单位方差为零的高斯分布），则它们的性能可能不好。"
   ]
  },
  {
   "cell_type": "markdown",
   "id": "7aa21ae1-1489-4e90-af28-b85dacca1f70",
   "metadata": {},
   "source": [
    "在实践中，我们通常会忽略分布的形状，而只是通过删除每个特征的平均值来实现特征数据中心化，然后除以非常数特征的标准差来缩放数据。"
   ]
  },
  {
   "cell_type": "markdown",
   "id": "7e597b99-e554-4ca5-88f9-1cb11d69e74e",
   "metadata": {},
   "source": [
    "例如，学习算法的目标函数中使用的许多元素（例如支持向量机的RBF内核或线性模型的l1和l2正则化器）都假定所有特征都围绕零为中心并且具有相同阶数的方差。如果某个特征的方差比其他特征大几个数量级，则它可能会极大影响目标函数，并使估计器无法按预期从其他特征中正确学习。"
   ]
  },
  {
   "cell_type": "markdown",
   "id": "b34085b7-7dd2-434d-b7d9-b7082f2cb867",
   "metadata": {},
   "source": [
    "scale函数提供了一种简单快捷的方法来对单个类似数组的数据集执行此操作："
   ]
  },
  {
   "cell_type": "code",
   "execution_count": 17,
   "id": "72de86dd-b7ce-4014-848e-599cc7fc134e",
   "metadata": {},
   "outputs": [],
   "source": [
    "from sklearn import preprocessing\n",
    "import numpy as np\n",
    "X_train = np.array([[1., -1., 2.],\n",
    "                    [2., 0.,  0.],\n",
    "                    [0., 1.,  -1.]])\n",
    "X_scaled = preprocessing.scale(X_train, axis=0)"
   ]
  },
  {
   "cell_type": "code",
   "execution_count": 18,
   "id": "056f08de-9441-40c4-8d7b-cf0331940f94",
   "metadata": {},
   "outputs": [
    {
     "data": {
      "text/plain": [
       "array([[ 0.        , -1.22474487,  1.33630621],\n",
       "       [ 1.22474487,  0.        , -0.26726124],\n",
       "       [-1.22474487,  1.22474487, -1.06904497]])"
      ]
     },
     "execution_count": 18,
     "metadata": {},
     "output_type": "execute_result"
    }
   ],
   "source": [
    "X_scaled"
   ]
  },
  {
   "cell_type": "code",
   "execution_count": 19,
   "id": "05cb77a0-2995-4806-990b-984e97d9b196",
   "metadata": {},
   "outputs": [
    {
     "name": "stdout",
     "output_type": "stream",
     "text": [
      "[0. 0. 0.]\n",
      "[1. 1. 1.]\n"
     ]
    }
   ],
   "source": [
    "# 缩放的数据具有 0均值 和 单位方差\n",
    "print(X_scaled.mean(axis=0))\n",
    "print(X_scaled.std(axis=0))"
   ]
  },
  {
   "cell_type": "markdown",
   "id": "bb9a3d5b-f54b-41c7-b169-61a1519ee663",
   "metadata": {},
   "source": [
    "## StandardScaler 使用细节"
   ]
  },
  {
   "attachments": {
    "aca85df8-ee70-4740-ba50-faa1a428a890.png": {
     "image/png": "[encoded data removed]"
    }
   },
   "cell_type": "markdown",
   "id": "77dd1f91-2f06-4621-a0de-eaa3950a9e57",
   "metadata": {},
   "source": [
    "StandardScaler 是 scikit-learn 中用于特征标准化（Standardization）的工具，它能将特征转换为均值为 0、方差为 1 的标准正态分布。下面详细介绍其用法，并提供示例代码。    \n",
    "\n",
    "### 一、核心功能与数学原理\n",
    "StandardScaler 实现了以下转换：    \n",
    "\n",
    "![image.png](attachment:aca85df8-ee70-4740-ba50-faa1a428a890.png)\n",
    "\n",
    "其中：\n",
    " * \\(\\mu\\) 是训练数据的均值（mean）\n",
    " * \\(\\sigma\\) 是训练数据的标准差（standard deviation）\n",
    " * 转换后的数据 \\(x'\\) 的均值为 0，方差为 1\n",
    "\n",
    "### 二、使用步骤与 API\n",
    "\n",
    "1. 初始化：创建 StandardScaler 对象\n",
    "2. 拟合数据：通过 fit(X) 计算训练数据的均值和标准差\n",
    "3. 转换数据：通过 transform(X) 应用标准化\n",
    "4. 逆转换（可选）：通过 inverse_transform(X) 恢复原始数据尺度\n",
    "\n",
    "#### 重要 API：\n",
    "\n",
    " * fit(X[, y])：计算并存储均值 \\(\\mu\\) 和标准差 \\(\\sigma\\)\n",
    " * transform(X)：执行标准化转换\n",
    " * fit_transform(X[, y])：一步完成拟合和转换\n",
    " * inverse_transform(X)：将标准化后的数据还原为原始尺度\n",
    " * mean_：查看拟合后的均值（numpy 数组）\n",
    " * scale_：查看拟合后的标准差（numpy 数组）"
   ]
  },
  {
   "cell_type": "code",
   "execution_count": 20,
   "id": "26cbd81d-5fab-4ce1-8682-193d763a790e",
   "metadata": {},
   "outputs": [
    {
     "name": "stdout",
     "output_type": "stream",
     "text": [
      "标准化后的数据 X_scaled:\n",
      " [[ 0.         -1.22474487]\n",
      " [-1.22474487  1.22474487]\n",
      " [ 1.22474487  0.        ]]\n",
      "均值 μ: [1. 0.]\n",
      "标准差 σ: [0.81649658 0.81649658]\n",
      "测试集标准化后的数据:\n",
      " [[ 2.44948974 -2.44948974]]\n",
      "恢复原始数据:\n",
      " [[ 1.00000000e+00 -1.00000000e+00]\n",
      " [ 1.11022302e-16  1.00000000e+00]\n",
      " [ 2.00000000e+00  0.00000000e+00]]\n"
     ]
    }
   ],
   "source": [
    "import numpy as np\n",
    "from sklearn.preprocessing import StandardScaler\n",
    "\n",
    "# 创建示例数据（3个样本，2个特征）\n",
    "X_train = np.array([[1, -1], \n",
    "                    [0, 1], \n",
    "                    [2, 0]])\n",
    "\n",
    "# 1. 初始化 StandardScaler\n",
    "scaler = StandardScaler()\n",
    "\n",
    "# 2. 拟合数据并转换（一步完成）\n",
    "X_scaled = scaler.fit_transform(X_train)\n",
    "\n",
    "# 3. 查看转换后的数据\n",
    "print(\"标准化后的数据 X_scaled:\\n\", X_scaled)\n",
    "# 输出：\n",
    "# [[ 0.         -1.22474487]\n",
    "#  [-1.22474487  1.22474487]\n",
    "#  [ 1.22474487  0.        ]]\n",
    "\n",
    "# 4. 查看统计参数\n",
    "print(\"均值 μ:\", scaler.mean_)  # 输出: [1.         0.        ]\n",
    "print(\"标准差 σ:\", scaler.scale_)  # 输出: [0.81649658 0.81649658]\n",
    "\n",
    "# 5. 对新数据应用相同的转换（测试集）\n",
    "X_test = np.array([[3, -2]])\n",
    "X_test_scaled = scaler.transform(X_test)\n",
    "print(\"测试集标准化后的数据:\\n\", X_test_scaled)\n",
    "# 输出：\n",
    "# [[2.44948974 -2.44948974]]\n",
    "\n",
    "# 6. 逆转换：从标准化数据恢复原始数据\n",
    "X_original = scaler.inverse_transform(X_scaled)\n",
    "print(\"恢复原始数据:\\n\", X_original)\n",
    "# 输出：\n",
    "# [[1. -1.]\n",
    "#  [0.  1.]\n",
    "#  [2.  0.]]"
   ]
  },
  {
   "cell_type": "code",
   "execution_count": null,
   "id": "2815d9eb-72c9-48f8-8260-538e4aac7b88",
   "metadata": {},
   "outputs": [],
   "source": []
  }
 ],
 "metadata": {
  "kernelspec": {
   "display_name": "Python 3 (ipykernel)",
   "language": "python",
   "name": "python3"
  },
  "language_info": {
   "codemirror_mode": {
    "name": "ipython",
    "version": 3
   },
   "file_extension": ".py",
   "mimetype": "text/x-python",
   "name": "python",
   "nbconvert_exporter": "python",
   "pygments_lexer": "ipython3",
   "version": "3.11.6"
  }
 },
 "nbformat": 4,
 "nbformat_minor": 5
}
