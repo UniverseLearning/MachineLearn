{
 "cells": [
  {
   "cell_type": "markdown",
   "id": "46567297-e42b-4ca9-bbae-b28194b9f29f",
   "metadata": {},
   "source": [
    "在机器学习中，离散化（Discretization） 是将连续数值特征转换为离散类别特征的过程，而二值化（Binarization） 则是将数值特征转换为 0/1 二值的特殊情况。这两种技术常用于简化模型、增强鲁棒性或处理特定类型的算法（如规则树模型）。下面详细介绍 KBinsDiscretizer 和 Binarizer 的用法、参数及案例。"
   ]
  },
  {
   "cell_type": "markdown",
   "id": "df358e14-6120-44d9-ab6f-0e97af15f905",
   "metadata": {},
   "source": [
    "## 一、KBinsDiscretizer：分箱离散化\n",
    "1. 核心作用\n",
    "    将连续数值特征划分为多个离散区间（分箱），每个区间作为一个类别。例如，将年龄分为 “青年”“中年”“老年”。\n",
    "2. 关键参数"
   ]
  },
  {
   "cell_type": "code",
   "execution_count": null,
   "id": "c9ce9b94-7a87-456d-a4c7-74cc4923d456",
   "metadata": {},
   "outputs": [],
   "source": [
    "from sklearn.preprocessing import KBinsDiscretizer\n",
    "\n",
    "discretizer = KBinsDiscretizer(\n",
    "    n_bins=5,                # 每个特征的分箱数量\n",
    "    encode='onehot',         # 编码方式：'onehot'、'onehot-dense'、'ordinal'\n",
    "    strategy='quantile',     # 分箱策略：'uniform'、'quantile'、'kmeans'\n",
    "    dtype=np.float64,        # 输出数据类型\n",
    "    subsample=1e5,           # 拟合时的最大样本数（内存优化）\n",
    "    random_state=None        # 随机种子（仅用于kmeans策略）\n",
    ")"
   ]
  },
  {
   "cell_type": "markdown",
   "id": "41d7080b-620f-41da-8084-1ef18ea926ba",
   "metadata": {},
   "source": [
    "3. 参数详解\n",
    "* n_bins：\n",
    "    每个特征的分箱数量，可以是整数（所有特征相同）或数组（为每个特征指定不同数量）。\n",
    "* encode：\n",
    "    - 'onehot'（默认）：返回稀疏的独热编码矩阵；\n",
    "    - 'onehot-dense'：返回密集的独热编码矩阵；\n",
    "    - 'ordinal'：返回有序整数编码（如 0,1,2...）。\n",
    "* strategy：\n",
    "    - 'uniform'：等宽分箱，每个区间宽度相等；\n",
    "    - 'quantile'：等频分箱，每个区间包含近似相同数量的样本；\n",
    "    - 'kmeans'：基于 K-means 聚类的分箱，区间边界由聚类中心决定。"
   ]
  },
  {
   "cell_type": "code",
   "execution_count": 1,
   "id": "802f53f7-a918-43e5-914f-d4d283529ed2",
   "metadata": {},
   "outputs": [],
   "source": [
    "import numpy as np\n",
    "from sklearn.preprocessing import KBinsDiscretizer\n",
    "\n",
    "# 创建示例数据（年龄和收入）\n",
    "X = np.array([\n",
    "    [20, 5000],\n",
    "    [30, 6000],\n",
    "    [40, 7000],\n",
    "    [50, 8000],\n",
    "    [60, 9000]\n",
    "])\n",
    "\n",
    "# 创建离散化器（等频分箱，独热编码）\n",
    "discretizer = KBinsDiscretizer(\n",
    "    n_bins=[2, 3],          # 年龄分2箱，收入分3箱\n",
    "    encode='onehot-dense',  # 返回密集矩阵\n",
    "    strategy='quantile'     # 等频分箱\n",
    ")"
   ]
  },
  {
   "cell_type": "code",
   "execution_count": 2,
   "id": "2cfcee1c-b72a-469b-abda-996cd085d8d7",
   "metadata": {},
   "outputs": [
    {
     "name": "stdout",
     "output_type": "stream",
     "text": [
      "原始数据：\n",
      "[[  20 5000]\n",
      " [  30 6000]\n",
      " [  40 7000]\n",
      " [  50 8000]\n",
      " [  60 9000]]\n",
      "\n",
      "离散化后的数据：\n",
      "[[1. 0. 1. 0. 0.]\n",
      " [1. 0. 1. 0. 0.]\n",
      " [0. 1. 0. 1. 0.]\n",
      " [0. 1. 0. 0. 1.]\n",
      " [0. 1. 0. 0. 1.]]\n"
     ]
    }
   ],
   "source": [
    "# 拟合并转换数据\n",
    "X_discretized = discretizer.fit_transform(X)\n",
    "\n",
    "print(\"原始数据：\")\n",
    "print(X)\n",
    "print(\"\\n离散化后的数据：\")\n",
    "print(X_discretized)  # 输出：[[1. 0. 1. 0. 0.], [1. 0. 0. 1. 0.], ...]"
   ]
  },
  {
   "cell_type": "code",
   "execution_count": 3,
   "id": "65d62a8a-61c0-488f-9bcb-ae9211eb6780",
   "metadata": {},
   "outputs": [
    {
     "name": "stdout",
     "output_type": "stream",
     "text": [
      "\n",
      "分箱边界：\n",
      "特征 0 的分箱边界：[20. 40. 60.]\n",
      "特征 1 的分箱边界：[5000.         6333.33333333 7666.66666667 9000.        ]\n"
     ]
    }
   ],
   "source": [
    "# 查看分箱边界\n",
    "print(\"\\n分箱边界：\")\n",
    "for feature_idx, bins in enumerate(discretizer.bin_edges_):\n",
    "    print(f\"特征 {feature_idx} 的分箱边界：{bins}\")\n",
    "# 输出：特征0(年龄)边界：[20. 45. 60.]，特征1(收入)边界：[5000. 6500. 8500. 9000.]"
   ]
  },
  {
   "cell_type": "code",
   "execution_count": 4,
   "id": "8fb5a805-9759-4b67-92f0-a4cf839f6ade",
   "metadata": {},
   "outputs": [
    {
     "name": "stdout",
     "output_type": "stream",
     "text": [
      "\n",
      "有序编码结果：\n",
      "[[0. 0.]\n",
      " [0. 0.]\n",
      " [1. 1.]\n",
      " [1. 1.]\n",
      " [1. 1.]]\n"
     ]
    }
   ],
   "source": [
    "# 使用有序编码\n",
    "discretizer_ordinal = KBinsDiscretizer(\n",
    "    n_bins=2,\n",
    "    encode='ordinal',\n",
    "    strategy='uniform'  # 等宽分箱\n",
    ")\n",
    "X_ordinal = discretizer_ordinal.fit_transform(X)\n",
    "print(\"\\n有序编码结果：\")\n",
    "print(X_ordinal)  # 输出：[[0. 0.], [0. 0.], [1. 1.], [1. 1.], [1. 1.]]"
   ]
  },
  {
   "cell_type": "markdown",
   "id": "931361b8-2060-4932-a2ff-2d3551e42490",
   "metadata": {},
   "source": [
    "## 二、Binarizer：二值化\n",
    "### 1. 核心作用\n",
    "    将数值特征转换为 0/1 二值，阈值以上为 1，否则为 0。常用于将连续特征转换为布尔特征（如“是否大于某个值”）\n",
    "### 2. 关键参数"
   ]
  },
  {
   "cell_type": "code",
   "execution_count": 2,
   "id": "c8e34433-47f6-4157-a8b6-9ef35623a0e3",
   "metadata": {},
   "outputs": [],
   "source": [
    "from sklearn.preprocessing import Binarizer\n",
    "\n",
    "binarizer = Binarizer(\n",
    "    threshold=0.0,         # 二值化阈值\n",
    "    copy=True              # 是否复制数据（避免原地修改）\n",
    ")"
   ]
  },
  {
   "cell_type": "markdown",
   "id": "b11230ba-6505-4137-8fe9-aa8717c2da31",
   "metadata": {},
   "source": [
    "### 3. 参数详解\n",
    "    阈值，大于该值的样本将被设为 1，否则设为 0。默认值为 0.0。\n",
    "### 4. 案例代码"
   ]
  },
  {
   "cell_type": "code",
   "execution_count": 3,
   "id": "027bbd74-7363-4036-8209-9dd933d244ad",
   "metadata": {},
   "outputs": [
    {
     "name": "stdout",
     "output_type": "stream",
     "text": [
      "原始数据：\n",
      "[[60]\n",
      " [70]\n",
      " [80]\n",
      " [90]\n",
      " [50]]\n",
      "\n",
      "二值化后的数据（阈值=75）：\n",
      "[[0]\n",
      " [0]\n",
      " [1]\n",
      " [1]\n",
      " [0]]\n",
      "\n",
      "多维数据二值化：\n",
      "[[0. 0.]\n",
      " [1. 0.]\n",
      " [1. 1.]]\n"
     ]
    }
   ],
   "source": [
    "import numpy as np\n",
    "from sklearn.preprocessing import Binarizer\n",
    "\n",
    "# 创建示例数据（考试分数）\n",
    "X = np.array([\n",
    "    [60],\n",
    "    [70],\n",
    "    [80],\n",
    "    [90],\n",
    "    [50]\n",
    "])\n",
    "\n",
    "# 创建二值化器（阈值为75分）\n",
    "binarizer = Binarizer(threshold=75)\n",
    "\n",
    "# 转换数据\n",
    "X_binarized = binarizer.transform(X)\n",
    "\n",
    "print(\"原始数据：\")\n",
    "print(X)\n",
    "print(\"\\n二值化后的数据（阈值=75）：\")\n",
    "print(X_binarized)  # 输出：[[0.], [0.], [1.], [1.], [0.]]\n",
    "\n",
    "# 对多维数据使用不同阈值\n",
    "X_multi = np.array([\n",
    "    [1.0, 2.0],\n",
    "    [3.0, 4.0],\n",
    "    [5.0, 6.0]\n",
    "])\n",
    "\n",
    "# 分别对每列设置阈值（需先reshape）\n",
    "binarizer_col1 = Binarizer(threshold=2.0)\n",
    "binarizer_col2 = Binarizer(threshold=5.0)\n",
    "\n",
    "X_multi_binarized = np.hstack([\n",
    "    binarizer_col1.transform(X_multi[:, [0]]),\n",
    "    binarizer_col2.transform(X_multi[:, [1]])\n",
    "])\n",
    "\n",
    "print(\"\\n多维数据二值化：\")\n",
    "print(X_multi_binarized)  # 输出：[[0. 0.], [1. 0.], [1. 1.]]"
   ]
  },
  {
   "cell_type": "markdown",
   "id": "dcf8fa63-8e37-4163-8a9e-b36f16660ced",
   "metadata": {},
   "source": [
    "## 三、两种方法的对比"
   ]
  },
  {
   "cell_type": "markdown",
   "id": "aa8741d5-ce07-4222-8903-51d726e3b71d",
   "metadata": {},
   "source": [
    "|特性\t|KBinsDiscretizer\t|Binarizer|\n",
    "| ---- | ---- | ---- |\n",
    "|输出类别数\t|每个特征可设置多个分箱（≥2）\t|固定为 2 个类别（0 和 1）|\n",
    "|核心参数\t|分箱数量 n_bins、策略 strategy\t|阈值 threshold|\n",
    "|适用场景\t|连续特征的多类别离散化（如年龄分组）\t|布尔特征生成（如是否超过阈值）|\n",
    "|对模型的影响\t|引入非线性，简化模型复杂度\t|增强特征的解释性（非黑即白）|"
   ]
  },
  {
   "cell_type": "markdown",
   "id": "ab52e049-457d-4a91-bbb9-46c95f003fe8",
   "metadata": {},
   "source": [
    "## 四、实际应用建议"
   ]
  },
  {
   "cell_type": "markdown",
   "id": "34f52559-c0bd-4f62-8759-b802de97e87c",
   "metadata": {},
   "source": [
    "1. KBinsDiscretizer 的策略选择：\n",
    "    * 等宽分箱（uniform）：适用于分布均匀的数据，但对异常值敏感；\n",
    "    * 等频分箱（quantile）：更鲁棒，避免了异常值导致的分箱不平衡；\n",
    "    * K-means 分箱：适合数据分布不规则，需根据数据内在结构分箱的场景。\n",
    "2. Binarizer 的阈值确定：\n",
    "    * 可通过业务知识设定（如 “是否超过及格线”）；\n",
    "    * 或使用数据统计量（如均值、中位数）作为阈值。\n",
    "3. 与 Pipeline 结合："
   ]
  },
  {
   "cell_type": "code",
   "execution_count": 5,
   "id": "f7123202-7b1b-43a6-9d09-129e2f3f3a15",
   "metadata": {},
   "outputs": [
    {
     "ename": "NameError",
     "evalue": "name 'DecisionTreeClassifier' is not defined",
     "output_type": "error",
     "traceback": [
      "\u001b[31m---------------------------------------------------------------------------\u001b[39m",
      "\u001b[31mNameError\u001b[39m                                 Traceback (most recent call last)",
      "\u001b[36mCell\u001b[39m\u001b[36m \u001b[39m\u001b[32mIn[5]\u001b[39m\u001b[32m, line 14\u001b[39m\n\u001b[32m      3\u001b[39m \u001b[38;5;28;01mfrom\u001b[39;00m\u001b[38;5;250m \u001b[39m\u001b[34;01msklearn\u001b[39;00m\u001b[34;01m.\u001b[39;00m\u001b[34;01mpreprocessing\u001b[39;00m\u001b[38;5;250m \u001b[39m\u001b[38;5;28;01mimport\u001b[39;00m KBinsDiscretizer\n\u001b[32m      5\u001b[39m preprocessor = ColumnTransformer(\n\u001b[32m      6\u001b[39m     transformers=[\n\u001b[32m      7\u001b[39m         (\u001b[33m'\u001b[39m\u001b[33mdiscretize\u001b[39m\u001b[33m'\u001b[39m, KBinsDiscretizer(n_bins=\u001b[32m3\u001b[39m), [\u001b[33m'\u001b[39m\u001b[33mage\u001b[39m\u001b[33m'\u001b[39m, \u001b[33m'\u001b[39m\u001b[33mincome\u001b[39m\u001b[33m'\u001b[39m]),\n\u001b[32m      8\u001b[39m         (\u001b[33m'\u001b[39m\u001b[33mbinarize\u001b[39m\u001b[33m'\u001b[39m, Binarizer(threshold=\u001b[32m0.5\u001b[39m), [\u001b[33m'\u001b[39m\u001b[33mscore\u001b[39m\u001b[33m'\u001b[39m])\n\u001b[32m      9\u001b[39m     ]\n\u001b[32m     10\u001b[39m )\n\u001b[32m     12\u001b[39m pipeline = Pipeline([\n\u001b[32m     13\u001b[39m     (\u001b[33m'\u001b[39m\u001b[33mpreprocess\u001b[39m\u001b[33m'\u001b[39m, preprocessor),\n\u001b[32m---> \u001b[39m\u001b[32m14\u001b[39m     (\u001b[33m'\u001b[39m\u001b[33mmodel\u001b[39m\u001b[33m'\u001b[39m, \u001b[43mDecisionTreeClassifier\u001b[49m())\n\u001b[32m     15\u001b[39m ])\n",
      "\u001b[31mNameError\u001b[39m: name 'DecisionTreeClassifier' is not defined"
     ]
    }
   ],
   "source": [
    "from sklearn.pipeline import Pipeline\n",
    "from sklearn.compose import ColumnTransformer\n",
    "from sklearn.preprocessing import KBinsDiscretizer\n",
    "\n",
    "preprocessor = ColumnTransformer(\n",
    "    transformers=[\n",
    "        ('discretize', KBinsDiscretizer(n_bins=3), ['age', 'income']),\n",
    "        ('binarize', Binarizer(threshold=0.5), ['score'])\n",
    "    ]\n",
    ")\n",
    "\n",
    "pipeline = Pipeline([\n",
    "    ('preprocess', preprocessor),\n",
    "    ('model', DecisionTreeClassifier())\n",
    "])"
   ]
  },
  {
   "cell_type": "markdown",
   "id": "d18ce6bc-275b-4d80-8c4d-82c1fa22b1b7",
   "metadata": {},
   "source": [
    "## 五、总结"
   ]
  },
  {
   "cell_type": "markdown",
   "id": "4037672f-4529-4446-9547-fd1e04e13fdc",
   "metadata": {},
   "source": [
    "* KBinsDiscretizer：通过分箱将连续特征转换为多类别离散特征，可选择不同的分箱策略以适应不同的数据分布。\n",
    "* Binarizer：通过设定阈值将特征转换为二值特征，常用于简化特征或生成布尔条件。"
   ]
  },
  {
   "cell_type": "markdown",
   "id": "63a068f7-60be-4cd7-bf97-fb3c4c2431ea",
   "metadata": {},
   "source": [
    "这两种方法都能在一定程度上增强模型的鲁棒性和解释性，具体选择需根据数据特性和业务需求决定。"
   ]
  },
  {
   "cell_type": "markdown",
   "id": "4fb949ff-6109-44d7-9c27-5184832fe7dd",
   "metadata": {},
   "source": []
  },
  {
   "cell_type": "markdown",
   "id": "67e22e5f-9c83-428e-ae25-75e3bc87b3a7",
   "metadata": {},
   "source": []
  }
 ],
 "metadata": {
  "kernelspec": {
   "display_name": "Python 3 (ipykernel)",
   "language": "python",
   "name": "python3"
  },
  "language_info": {
   "codemirror_mode": {
    "name": "ipython",
    "version": 3
   },
   "file_extension": ".py",
   "mimetype": "text/x-python",
   "name": "python",
   "nbconvert_exporter": "python",
   "pygments_lexer": "ipython3",
   "version": "3.11.6"
  }
 },
 "nbformat": 4,
 "nbformat_minor": 5
}
