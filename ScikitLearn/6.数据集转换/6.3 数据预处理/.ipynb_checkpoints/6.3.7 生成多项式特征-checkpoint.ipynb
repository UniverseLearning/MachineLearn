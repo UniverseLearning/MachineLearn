{
 "cells": [
  {
   "cell_type": "markdown",
   "id": "9da61597-c10a-4275-8f34-78858374bfab",
   "metadata": {},
   "source": [
    "sklearn.preprocessing.PolynomialFeatures 是 scikit-learn 中用于生成多项式特征的工具，它通过将原始特征的幂次组合（如平方、交叉项）扩展特征空间，从而捕捉特征之间的非线性关系。这种技术在处理线性模型无法拟合的非线性数据时非常有效。"
   ]
  },
  {
   "cell_type": "markdown",
   "id": "1a68defa-3179-46e8-9acc-60b47108c646",
   "metadata": {},
   "source": [
    "## 一、核心作用\n",
    "将低维特征映射到高维空间，生成原始特征的多项式组合。例如：\n",
    " * 对特征 \\([x_1, x_2]\\)，生成二次多项式特征后为 \\([1, x_1, x_2, x_1^2, x_1x_2, x_2^2]\\)，其中包含常数项、一次项、平方项和交叉项。\n",
    " * 目的是让线性模型（如线性回归、SVM）能够拟合非线性关系。"
   ]
  },
  {
   "cell_type": "markdown",
   "id": "efe80337-2df9-4dc5-b8a9-c94b081fb7e5",
   "metadata": {},
   "source": [
    "## 二、关键参数详解"
   ]
  },
  {
   "cell_type": "code",
   "execution_count": 1,
   "id": "7f75e5d6-eb3b-4ff4-b5e0-2cbb98ee9c39",
   "metadata": {},
   "outputs": [],
   "source": [
    "from sklearn.preprocessing import PolynomialFeatures\n",
    "\n",
    "poly = PolynomialFeatures(\n",
    "    degree=2,             # 多项式阶数（核心参数）\n",
    "    interaction_only=False,  # 是否只保留交叉项（不保留幂次项）\n",
    "    include_bias=True,    # 是否包含常数项（1）\n",
    "    order='C'             # 特征顺序，'C'为按列排序，'F'为按行排序\n",
    ")"
   ]
  },
  {
   "cell_type": "markdown",
   "id": "bf00baba-6e27-48e8-9eef-3d12680c2893",
   "metadata": {},
   "source": [
    "1. degree：\n",
    "    多项式的阶数（正整数），决定特征扩展的复杂度。例如：\n",
    "   * degree=1：仅保留原始特征（无变化）；\n",
    "   * degree=2：包含原始特征、平方项和交叉项；\n",
    "   * degree=3：增加立方项、三次交叉项（如 \\(x_1^2x_2\\)）等。\n",
    "2. interaction_only：\n",
    "   * False（默认）：保留所有幂次项（如 \\(x_1^2, x_2^2\\)）和交叉项（如 \\(x_1x_2\\)）；\n",
    "   * True：只保留交叉项（如 \\(x_1x_2\\)），不保留单个特征的高次幂（如 \\(x_1^2\\)），适用于仅关注特征间交互作用的场景。\n",
    "3. include_bias：\n",
    "   * True（默认）：在输出中包含常数项（全为 1 的列），对应多项式中的常数项；\n",
    "   * False：不包含常数项，常用于已有偏置项的模型（如线性回归的 fit_intercept=True）。"
   ]
  },
  {
   "cell_type": "markdown",
   "id": "97215f9e-40be-41a5-87f7-4cfdf8e3f709",
   "metadata": {},
   "source": [
    "## 三、案例代码：多项式特征生成"
   ]
  },
  {
   "cell_type": "markdown",
   "id": "8b83913b-4d35-4895-99da-8149c1cd0339",
   "metadata": {},
   "source": [
    "### 1. 基础用法（二阶多项式）"
   ]
  },
  {
   "cell_type": "code",
   "execution_count": 2,
   "id": "528efbbf-15e6-46e1-8f16-c33e1c6404e8",
   "metadata": {},
   "outputs": [
    {
     "name": "stdout",
     "output_type": "stream",
     "text": [
      "原始特征：\n",
      "[[1 2]\n",
      " [3 4]]\n",
      "\n",
      "degree=2（默认参数）：\n",
      "特征名称： ['1' 'x1' 'x2' 'x1^2' 'x1 x2' 'x2^2']\n",
      "扩展后特征：\n",
      "[[ 1.  1.  2.  1.  2.  4.]\n",
      " [ 1.  3.  4.  9. 12. 16.]]\n"
     ]
    }
   ],
   "source": [
    "import numpy as np\n",
    "from sklearn.preprocessing import PolynomialFeatures\n",
    "\n",
    "# 原始特征：2个样本，2个特征 [x1, x2]\n",
    "X = np.array([\n",
    "    [1, 2],\n",
    "    [3, 4]\n",
    "])\n",
    "print(\"原始特征：\")\n",
    "print(X)\n",
    "# 输出：\n",
    "# [[1 2]\n",
    "#  [3 4]]\n",
    "\n",
    "# 1. 生成二阶多项式特征（含幂次项、交叉项和常数项）\n",
    "poly = PolynomialFeatures(degree=2)\n",
    "X_poly = poly.fit_transform(X)\n",
    "\n",
    "print(\"\\ndegree=2（默认参数）：\")\n",
    "print(\"特征名称：\", poly.get_feature_names_out(['x1', 'x2']))\n",
    "print(\"扩展后特征：\")\n",
    "print(X_poly)\n",
    "# 输出：\n",
    "# 特征名称： ['1' 'x1' 'x2' 'x1^2' 'x1 x2' 'x2^2']\n",
    "# 扩展后特征：\n",
    "# [[ 1.  1.  2.  1.  2.  4.]  # 1, x1, x2, x1², x1x2, x2²\n",
    "#  [ 1.  3.  4.  9. 12. 16.]]"
   ]
  },
  {
   "cell_type": "markdown",
   "id": "05884038-ca80-43b3-9fb6-01d8b6b09c1e",
   "metadata": {},
   "source": [
    "### 2. 仅保留交叉项（interaction_only=True）"
   ]
  },
  {
   "cell_type": "code",
   "execution_count": 3,
   "id": "2260a631-26c7-4bcf-9492-30ea64d4892c",
   "metadata": {},
   "outputs": [
    {
     "name": "stdout",
     "output_type": "stream",
     "text": [
      "\n",
      "interaction_only=True：\n",
      "特征名称： ['1' 'x1' 'x2' 'x1 x2']\n",
      "扩展后特征：\n",
      "[[ 1.  1.  2.  2.]\n",
      " [ 1.  3.  4. 12.]]\n"
     ]
    }
   ],
   "source": [
    "# 2. 只保留交叉项（无幂次项）\n",
    "poly_interact = PolynomialFeatures(degree=2, interaction_only=True)\n",
    "X_interact = poly_interact.fit_transform(X)\n",
    "\n",
    "print(\"\\ninteraction_only=True：\")\n",
    "print(\"特征名称：\", poly_interact.get_feature_names_out(['x1', 'x2']))\n",
    "print(\"扩展后特征：\")\n",
    "print(X_interact)\n",
    "# 输出：\n",
    "# 特征名称： ['1' 'x1' 'x2' 'x1 x2']\n",
    "# 扩展后特征：\n",
    "# [[ 1.  1.  2.  2.]  # 1, x1, x2, x1x2（无x1²和x2²）\n",
    "#  [ 1.  3.  4. 12.]]"
   ]
  },
  {
   "cell_type": "markdown",
   "id": "0306b877-a7e1-4314-8ce2-7dcbf6d800bd",
   "metadata": {},
   "source": [
    "### 3. 不包含常数项（include_bias=False）"
   ]
  },
  {
   "cell_type": "code",
   "execution_count": 4,
   "id": "936a50db-6f20-4287-9d6c-d5684b88cdae",
   "metadata": {},
   "outputs": [
    {
     "name": "stdout",
     "output_type": "stream",
     "text": [
      "\n",
      "include_bias=False：\n",
      "特征名称： ['x1' 'x2' 'x1^2' 'x1 x2' 'x2^2']\n",
      "扩展后特征：\n",
      "[[ 1.  2.  1.  2.  4.]\n",
      " [ 3.  4.  9. 12. 16.]]\n"
     ]
    }
   ],
   "source": [
    "# 3. 不包含常数项\n",
    "poly_no_bias = PolynomialFeatures(degree=2, include_bias=False)\n",
    "X_no_bias = poly_no_bias.fit_transform(X)\n",
    "\n",
    "print(\"\\ninclude_bias=False：\")\n",
    "print(\"特征名称：\", poly_no_bias.get_feature_names_out(['x1', 'x2']))\n",
    "print(\"扩展后特征：\")\n",
    "print(X_no_bias)\n",
    "# 输出：\n",
    "# 特征名称： ['x1' 'x2' 'x1^2' 'x1 x2' 'x2^2']\n",
    "# 扩展后特征：\n",
    "# [[ 1.  2.  1.  2.  4.]  # 无常数项1\n",
    "#  [ 3.  4.  9. 12. 16.]]"
   ]
  },
  {
   "cell_type": "markdown",
   "id": "15725102-4ef3-4960-93f9-e9def5bfc018",
   "metadata": {},
   "source": [
    "### 4. 高阶多项式（degree=3）"
   ]
  },
  {
   "cell_type": "code",
   "execution_count": 5,
   "id": "8e18d2d8-a824-4e61-ab9e-d6b7b8fbadb7",
   "metadata": {},
   "outputs": [
    {
     "name": "stdout",
     "output_type": "stream",
     "text": [
      "\n",
      "degree=3：\n",
      "特征名称： ['1' 'x1' 'x2' 'x1^2' 'x1 x2' 'x2^2' 'x1^3' 'x1^2 x2' 'x1 x2^2' 'x2^3']\n",
      "扩展后特征（前2列）：\n",
      "[[ 1.  1.  2.  1.  2.  4.]\n",
      " [ 1.  3.  4.  9. 12. 16.]]\n"
     ]
    }
   ],
   "source": [
    "# 4. 三阶多项式（含立方项和高阶交叉项）\n",
    "poly_degree3 = PolynomialFeatures(degree=3)\n",
    "X_degree3 = poly_degree3.fit_transform(X)\n",
    "\n",
    "print(\"\\ndegree=3：\")\n",
    "print(\"特征名称：\", poly_degree3.get_feature_names_out(['x1', 'x2']))\n",
    "print(\"扩展后特征（前2列）：\")\n",
    "print(X_degree3[:, :6])  # 仅展示部分列\n",
    "# 输出特征包含：1, x1, x2, x1², x1x2, x2², x1³, x1²x2, x1x2², x2³"
   ]
  },
  {
   "cell_type": "markdown",
   "id": "e5cec391-f19f-4e0c-8ad7-b2918b0cfdf0",
   "metadata": {},
   "source": [
    "## 四、多项式特征的应用场景"
   ]
  },
  {
   "cell_type": "markdown",
   "id": "c9ceaeb0-d3a3-44a4-a75c-abb199bbecba",
   "metadata": {},
   "source": [
    "1. 线性模型处理非线性数据：    \n",
    "    例如，房价与面积的关系可能是二次曲线（面积增大到一定程度后房价增速放缓），通过二阶多项式特征，线性回归可以拟合这种关系。\n",
    "2. 捕捉特征交互作用：    \n",
    "例如，“广告费用” 和 “用户年龄” 的交互可能影响点击率（年轻人对广告的敏感度与老年人不同），交叉项 \\(x_1x_2\\) 可捕捉这种交互。\n",
    "3. 避免手动设计特征：    \n",
    "无需人工推导非线性关系（如平方、立方），通过 PolynomialFeatures 自动生成，简化特征工程流程。"
   ]
  },
  {
   "cell_type": "markdown",
   "id": "f1055f31-7505-47ab-ab68-2a679eaf9f29",
   "metadata": {},
   "source": [
    "## 五、注意事项"
   ]
  },
  {
   "cell_type": "markdown",
   "id": "1b21f634-6f32-48e8-95a5-161b17281388",
   "metadata": {},
   "source": [
    "1. 维度爆炸风险：    \n",
    "特征数量随 degree 呈指数增长。例如，原始特征数为 n，degree=2 时特征数为 \\(n(n+3)/2\\)（含常数项），degree=3 时增至 \\(n(n+1)(n+2)/6\\)。高维特征会增加计算成本，甚至导致过拟合。\n",
    "2. 过拟合风险：    \n",
    "高阶多项式可能过度拟合训练数据的噪声，建议结合正则化（如 Ridge、Lasso）使用。\n",
    "3. 与标准化配合：    \n",
    "多项式特征的数值范围可能差异很大（如 \\(x_1=10\\) 时，\\(x_1^2=100\\)），建议先标准化（如 StandardScaler）再生成多项式特征。"
   ]
  },
  {
   "cell_type": "markdown",
   "id": "ceebd44c-fd5e-4e6d-906e-2844ee0c7f7a",
   "metadata": {},
   "source": [
    "## 六、与线性模型结合的完整案例"
   ]
  },
  {
   "cell_type": "code",
   "execution_count": 10,
   "id": "c58907fd-05f3-41a0-9329-ca7ff7a839f6",
   "metadata": {
    "scrolled": true
   },
   "outputs": [
    {
     "data": {
      "image/png": "[encoded data removed]",
      "text/plain": [
       "<Figure size 800x400 with 1 Axes>"
      ]
     },
     "metadata": {},
     "output_type": "display_data"
    }
   ],
   "source": [
    "import matplotlib.pyplot as plt\n",
    "# 设置全局字体，支持中文显示\n",
    "plt.rcParams[\"font.family\"] = [\"SimHei\", \"Microsoft YaHei\"]\n",
    "# 解决负号显示问题（可选）\n",
    "plt.rcParams[\"axes.unicode_minus\"] = False  # 正确显示负号\n",
    "from sklearn.linear_model import LinearRegression\n",
    "from sklearn.pipeline import Pipeline\n",
    "from sklearn.preprocessing import StandardScaler\n",
    "\n",
    "# 生成非线性数据（y = x² + 噪声）\n",
    "np.random.seed(42)\n",
    "x = np.linspace(-3, 3, 100).reshape(-1, 1)\n",
    "y = x**2 + np.random.normal(0, 1, size=x.shape)\n",
    "\n",
    "# 1. 线性回归（无多项式特征，无法拟合二次关系）\n",
    "lr = LinearRegression()\n",
    "lr.fit(x, y)\n",
    "y_pred_lr = lr.predict(x)\n",
    "\n",
    "# 2. 多项式回归（二阶特征 + 线性回归）\n",
    "poly_pipeline = Pipeline([\n",
    "    ('scaler', StandardScaler()),  # 标准化\n",
    "    ('poly', PolynomialFeatures(degree=2)),  # 二阶多项式\n",
    "    ('lr', LinearRegression())     # 线性回归\n",
    "])\n",
    "poly_pipeline.fit(x, y)\n",
    "y_pred_poly = poly_pipeline.predict(x)\n",
    "\n",
    "# 可视化对比\n",
    "plt.figure(figsize=(8, 4))\n",
    "plt.scatter(x, y, label='原始数据', alpha=0.5)\n",
    "plt.plot(x, y_pred_lr, 'r--', label='线性回归')\n",
    "plt.plot(x, y_pred_poly, 'g-', label='二阶多项式回归')\n",
    "plt.xlabel('x')\n",
    "plt.ylabel('y')\n",
    "plt.legend()\n",
    "plt.title('多项式特征对非线性数据的拟合效果')\n",
    "plt.show()"
   ]
  },
  {
   "cell_type": "code",
   "execution_count": null,
   "id": "f003dc2f-f5ef-4df4-8071-e43d32097e6f",
   "metadata": {},
   "outputs": [],
   "source": []
  }
 ],
 "metadata": {
  "kernelspec": {
   "display_name": "Python 3 (ipykernel)",
   "language": "python",
   "name": "python3"
  },
  "language_info": {
   "codemirror_mode": {
    "name": "ipython",
    "version": 3
   },
   "file_extension": ".py",
   "mimetype": "text/x-python",
   "name": "python",
   "nbconvert_exporter": "python",
   "pygments_lexer": "ipython3",
   "version": "3.11.6"
  }
 },
 "nbformat": 4,
 "nbformat_minor": 5
}
