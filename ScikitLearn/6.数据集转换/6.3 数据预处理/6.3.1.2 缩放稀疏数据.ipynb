{
 "cells": [
  {
   "cell_type": "markdown",
   "id": "0713a83a-3a96-4e4d-b4b1-a924102c15e9",
   "metadata": {},
   "source": [
    "## 一、核心原则：中心化伤稀疏，缩放有意义\n",
    "### 中心化（减去均值）会破坏稀疏结构：\n",
    "    稀疏数据的核心是 “多数值为 0”，而中心化需要计算所有样本的均值并减去该均值。对于稀疏数据，0 值减去均值后会变成非零值（如均值 = 5 时，0-5=-5），导致原本的 0 值被 “激活”，稀疏性被破坏；同时，计算均值需要将稀疏矩阵转为稠密矩阵，可能消耗大量内存（尤其是高维稀疏数据），甚至导致程序崩溃。因此，应尽量避免对稀疏数据做中心化。\n",
    "### 缩放稀疏数据有意义：\n",
    "    当稀疏数据的特征处于不同尺度（如一个特征是 “点击量，取值 1-100”，另一个是 “转化率，取值 0.01-0.1”）时，缩放能消除尺度差异，让模型公平学习特征贡献，因此是必要的操作。"
   ]
  },
  {
   "cell_type": "markdown",
   "id": "c9fc0903-2e17-4595-a5d0-0de918e34341",
   "metadata": {},
   "source": [
    "## 二、推荐工具：MaxAbsScaler 是稀疏数据缩放的首选\n",
    "### MaxAbsScaler 和 maxabs_scale：\n",
    "    这两个工具是专门为稀疏数据设计的，其核心逻辑是 “将特征值除以该特征的绝对值最大值”（\\(x'=x/\\text{max}(|x|)\\)）。由于 0 值除以任何数仍为 0，因此严格保留稀疏结构，且计算高效（无需转换为稠密矩阵），是处理稀疏数据的推荐方法。"
   ]
  },
  {
   "cell_type": "markdown",
   "id": "94927948-4341-4b35-9b6d-54723674583c",
   "metadata": {},
   "source": [
    "## 三、StandardScaler/scale 处理稀疏数据的条件\n",
    "### 必须显式设置 with_mean=False：\n",
    "    StandardScaler 和 scale（scikit-learn 中的函数）默认会同时做 “中心化（减均值）+ 缩放（除标准差）”。但对稀疏数据，若不关闭中心化（with_mean=False），会触发 ValueError—— 这是为了避免 “静默中心化” 破坏稀疏性或导致内存崩溃。\n",
    "    当 with_mean=False 时，它们仅执行 “缩放（除标准差）”，此时 0 值除以标准差仍为 0，稀疏性得以保留，可安全处理稀疏数据。"
   ]
  },
  {
   "cell_type": "markdown",
   "id": "8225716d-3014-4216-a4c7-084ff10ee5d6",
   "metadata": {},
   "source": [
    "## 四、RobustScaler 对稀疏数据的限制\n",
    "### 不能用稀疏数据 “拟合”（fit），但可以 “转换”（transform）：\n",
    "    RobustScaler 基于中位数和四分位数（抗异常值），其拟合过程需要计算这些统计量，而稀疏数据的统计量计算需转为稠密矩阵，因此不支持用稀疏数据拟合；但如果已用稠密数据拟合得到统计量，后续可对稀疏数据执行转换（此时仅做缩放，不破坏稀疏性）。"
   ]
  },
  {
   "cell_type": "markdown",
   "id": "764ef227-c74f-4602-aaa6-dc6d02000f11",
   "metadata": {},
   "source": [
    "## 五、稀疏数据的格式要求\n",
    "### 仅支持 CSR/CSC 格式：\n",
    "    scikit-learn 的缩放器仅直接支持 “压缩稀疏行（CSR）” 和 “压缩稀疏列（CSC）” 格式（scipy.sparse.csr_matrix / csc_matrix）。其他稀疏格式（如 COO、DOK）会被自动转为 CSR 格式，可能产生不必要的内存副本。因此，建议提前将稀疏数据转为 CSR 或 CSC 格式，减少内存开销。"
   ]
  },
  {
   "cell_type": "markdown",
   "id": "9e66cbc2-0bb5-42ee-8918-9294dde9285d",
   "metadata": {},
   "source": [
    "## 六、特殊情况：小数据可转为稠密矩阵\n",
    "    若稀疏数据经过中心化后规模仍很小（如特征维度低、非零值少），可通过稀疏矩阵的 toarray() 方法转为稠密数组，再进行后续处理 —— 这种情况适用于数据量小、内存足够的场景。"
   ]
  },
  {
   "cell_type": "markdown",
   "id": "0c451eaa-6273-4f30-8267-4b13267a37db",
   "metadata": {},
   "source": [
    "## 总结：稀疏数据缩放的 “避坑指南”\n",
    "1. 不做中心化：除非数据规模极小，否则避免对稀疏数据减均值，以防破坏稀疏性。\n",
    "2. 优先用 MaxAbsScaler：专为稀疏数据设计，严格保留 0 值，是最安全的选择。\n",
    "3. 用 StandardScaler 必须加 with_mean=False：否则会报错，且可能破坏稀疏性。\n",
    "4. 注意格式：用 CSR 或 CSC 格式存储稀疏数据，减少内存浪费。\n",
    "5. RobustScaler 慎用：仅在已用稠密数据拟合后，才可用于稀疏数据的转换。"
   ]
  }
 ],
 "metadata": {
  "kernelspec": {
   "display_name": "Python 3 (ipykernel)",
   "language": "python",
   "name": "python3"
  },
  "language_info": {
   "codemirror_mode": {
    "name": "ipython",
    "version": 3
   },
   "file_extension": ".py",
   "mimetype": "text/x-python",
   "name": "python",
   "nbconvert_exporter": "python",
   "pygments_lexer": "ipython3",
   "version": "3.11.6"
  }
 },
 "nbformat": 4,
 "nbformat_minor": 5
}
