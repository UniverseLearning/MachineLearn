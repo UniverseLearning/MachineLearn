{
 "cells": [
  {
   "cell_type": "markdown",
   "id": "404c93c0-b7e3-4f95-b3d4-8a3d536569ec",
   "metadata": {},
   "source": [
    "QuantileTransformer和quantile_transform提供了一种非参数转换，以将数据映射到值介于0和1之间的均匀分布："
   ]
  },
  {
   "cell_type": "code",
   "execution_count": 17,
   "id": "fb163524-90a2-40fd-9d83-9f2aff8d973b",
   "metadata": {},
   "outputs": [],
   "source": [
    "# 从 sklearn 库导入鸢尾花数据集加载函数\n",
    "from sklearn.datasets import load_iris\n",
    "# 导入训练集和测试集分割函数\n",
    "from sklearn.model_selection import train_test_split\n",
    "# 加载鸢尾花数据集，X 是特征（花瓣长度、宽度等），y 是标签（花的类别）\n",
    "X, y = load_iris(return_X_y=True)"
   ]
  },
  {
   "cell_type": "code",
   "execution_count": 18,
   "id": "2221e5eb-5558-4061-aad4-e552f79ee74f",
   "metadata": {},
   "outputs": [],
   "source": [
    "# 将数据集拆分为训练集（75%）和测试集（25%），random_state=0 确保每次拆分结果相同\n",
    "X_train, X_test, y_train, y_test = train_test_split(X, y, random_state=0)"
   ]
  },
  {
   "cell_type": "code",
   "execution_count": 19,
   "id": "b3070455-f1b4-4712-9192-face0062cb60",
   "metadata": {},
   "outputs": [],
   "source": [
    "# 创建分位数转换器实例，用于将数据转换为均匀分布\n",
    "# random_state=0 确保结果可复现\n",
    "quantile_transformer = preprocessing.QuantileTransformer(random_state=0)"
   ]
  },
  {
   "cell_type": "code",
   "execution_count": 20,
   "id": "dd19e21b-10bc-4872-a721-6cd27b6717aa",
   "metadata": {},
   "outputs": [
    {
     "name": "stderr",
     "output_type": "stream",
     "text": [
      "D:\\PySpace\\PythonMachineLearn\\.venv\\Lib\\site-packages\\sklearn\\preprocessing\\_data.py:2829: UserWarning: n_quantiles (1000) is greater than the total number of samples (112). n_quantiles is set to n_samples.\n",
      "  warnings.warn(\n"
     ]
    }
   ],
   "source": [
    "# 对训练数据进行拟合和转换：\n",
    "# - 拟合：从训练数据中学习特征的分布（比如找到各个分位数的位置）\n",
    "# - 转换：根据学习到的分布，将数据映射到均匀分布（值范围0~1）\n",
    "X_train_trans = quantile_transformer.fit_transform(X_train)"
   ]
  },
  {
   "cell_type": "code",
   "execution_count": 21,
   "id": "2db79329-1ae1-46d0-b05b-440ee175bda6",
   "metadata": {},
   "outputs": [],
   "source": [
    "# 对测试数据进行转换：\n",
    "# 注意这里只用 transform，因为要使用训练数据学习到的分布（避免测试数据泄露）\n",
    "X_test_trans = quantile_transformer.transform(X_test)"
   ]
  },
  {
   "cell_type": "code",
   "execution_count": 22,
   "id": "15d33cc2-86d7-4b8b-8802-3b1a88056fd6",
   "metadata": {},
   "outputs": [
    {
     "data": {
      "text/plain": [
       "array([4.3, 5.1, 5.8, 6.5, 7.9])"
      ]
     },
     "execution_count": 22,
     "metadata": {},
     "output_type": "execute_result"
    }
   ],
   "source": [
    "# 查看原始训练数据中第一个特征（花萼长度）的关键百分位数：\n",
    "# 0%分位数（最小值）=4.3，25%分位数=5.1，50%分位数（中位数）=5.8，\n",
    "# 75%分位数=6.5，100%分位数（最大值）=7.9\n",
    "np.percentile(X_train[:, 0], [0, 25, 50, 75, 100])"
   ]
  },
  {
   "cell_type": "code",
   "execution_count": 23,
   "id": "57049755-ba37-402d-82f9-b88c73d04335",
   "metadata": {},
   "outputs": [
    {
     "data": {
      "text/plain": [
       "array([4.3, 5.1, 5.8, 6.5, 7.9])"
      ]
     },
     "execution_count": 23,
     "metadata": {},
     "output_type": "execute_result"
    }
   ],
   "source": [
    "np.percentile(X_train[:, 0], [0, 25, 50, 75, 100]) "
   ]
  },
  {
   "cell_type": "code",
   "execution_count": 24,
   "id": "3cfd773f-7cf9-4a19-a100-8d44993a3e7d",
   "metadata": {},
   "outputs": [
    {
     "data": {
      "text/plain": [
       "array([0.        , 0.23873874, 0.50900901, 0.74324324, 1.        ])"
      ]
     },
     "execution_count": 24,
     "metadata": {},
     "output_type": "execute_result"
    }
   ],
   "source": [
    "# 此特征对应以厘米为单位的花萼长度。一旦应用了分位数转换，这些界标便会接近先前定义的百分位数：\n",
    "np.percentile(X_train_trans[:, 0], [0, 25, 50, 75, 100])"
   ]
  },
  {
   "cell_type": "code",
   "execution_count": null,
   "id": "9e71ac92-1dfa-4a8e-b9bf-c653cf0dfa13",
   "metadata": {},
   "outputs": [],
   "source": []
  }
 ],
 "metadata": {
  "kernelspec": {
   "display_name": "Python 3 (ipykernel)",
   "language": "python",
   "name": "python3"
  },
  "language_info": {
   "codemirror_mode": {
    "name": "ipython",
    "version": 3
   },
   "file_extension": ".py",
   "mimetype": "text/x-python",
   "name": "python",
   "nbconvert_exporter": "python",
   "pygments_lexer": "ipython3",
   "version": "3.11.6"
  }
 },
 "nbformat": 4,
 "nbformat_minor": 5
}
