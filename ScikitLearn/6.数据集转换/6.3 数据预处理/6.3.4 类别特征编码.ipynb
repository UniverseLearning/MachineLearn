{
 "cells": [
  {
   "cell_type": "markdown",
   "id": "7c86ffa8-4c94-4970-8d3b-c711d63aa3ef",
   "metadata": {},
   "source": [
    "在机器学习中，类别特征编码是处理非数值型数据（如性别、颜色、城市）的关键步骤。OrdinalEncoder 和 OneHotEncoder 是 scikit-learn 中最常用的两种类别特征编码工具，它们分别适用于不同类型的类别数据。下面详细介绍它们的用法、参数及应用场景。"
   ]
  },
  {
   "cell_type": "markdown",
   "id": "bba438a3-00a7-489e-a14c-5dd34e60447f",
   "metadata": {},
   "source": [
    "## 一、OrdinalEncoder：顺序编码"
   ]
  },
  {
   "cell_type": "markdown",
   "id": "b3f841e6-78b5-451d-b8de-4fab2a902015",
   "metadata": {},
   "source": [
    "1. 核心作用\n",
    "    将类别特征转换为整数编码，每个类别被映射为一个唯一的整数。适用于有序类别（如教育程度：小学 < 中学 < 大学）。\n",
    "2. 关键参数"
   ]
  },
  {
   "cell_type": "code",
   "execution_count": null,
   "id": "13bb4cef-b110-4f54-b1bf-5cc1cc5aae75",
   "metadata": {},
   "outputs": [],
   "source": [
    "from sklearn.preprocessing import OrdinalEncoder\n",
    "\n",
    "encoder = OrdinalEncoder(\n",
    "    categories='auto',       # 类别顺序，'auto' 自动学习，或手动指定列表\n",
    "    dtype=np.float64,        # 输出数据类型\n",
    "    handle_unknown='error',  # 处理未知类别的方式\n",
    "    unknown_value=None,      # 未知类别的替代值（需设置 handle_unknown='use_encoded_value'）\n",
    ")"
   ]
  },
  {
   "cell_type": "markdown",
   "id": "1e0bfed4-a18e-44a2-822b-e5f9c3e70b8f",
   "metadata": {},
   "source": [
    "3. 参数详解\n",
    "    * categories：\n",
    "      - 'auto'（默认）：从训练数据中自动学习类别顺序（按字典序排序）；\n",
    "      - 手动指定列表：如 [['low', 'medium', 'high']]，明确类别顺序。\n",
    "    * handle_unknown：\n",
    "      - 'error'（默认）：遇到未知类别时抛出错误；\n",
    "      - 'use_encoded_value'：将未知类别映射为 unknown_value 指定的值（需同时设置该参数）。"
   ]
  },
  {
   "cell_type": "code",
   "execution_count": 1,
   "id": "97b17034-a79d-410e-bffb-ddb5ce61af35",
   "metadata": {},
   "outputs": [
    {
     "name": "stdout",
     "output_type": "stream",
     "text": [
      "原始数据：\n",
      "[['low']\n",
      " ['medium']\n",
      " ['high']\n",
      " ['medium']]\n",
      "\n",
      "编码后的数据：\n",
      "[[0.]\n",
      " [1.]\n",
      " [2.]\n",
      " [1.]]\n",
      "\n",
      "类别映射：\n",
      "[array(['low', 'medium', 'high'], dtype=object)]\n",
      "\n",
      "处理未知类别：\n",
      "[[-1.]]\n"
     ]
    }
   ],
   "source": [
    "import numpy as np\n",
    "from sklearn.preprocessing import OrdinalEncoder\n",
    "\n",
    "# 创建示例数据（有序类别）\n",
    "X = np.array([\n",
    "    ['low'],\n",
    "    ['medium'],\n",
    "    ['high'],\n",
    "    ['medium']\n",
    "])\n",
    "\n",
    "# 创建 OrdinalEncoder 实例，手动指定类别顺序\n",
    "encoder = OrdinalEncoder(categories=[['low', 'medium', 'high']])\n",
    "\n",
    "# 拟合并转换数据\n",
    "X_encoded = encoder.fit_transform(X)\n",
    "\n",
    "print(\"原始数据：\")\n",
    "print(X)\n",
    "print(\"\\n编码后的数据：\")\n",
    "print(X_encoded)  # 输出：[[0.], [1.], [2.], [1.]]\n",
    "\n",
    "# 查看类别映射\n",
    "print(\"\\n类别映射：\")\n",
    "print(encoder.categories_)  # 输出：[array(['low', 'medium', 'high'], dtype=object)]\n",
    "\n",
    "# 处理未知类别（需设置 handle_unknown='use_encoded_value'）\n",
    "new_data = np.array([['unknown']])\n",
    "encoder = OrdinalEncoder(\n",
    "    categories=[['low', 'medium', 'high']],\n",
    "    handle_unknown='use_encoded_value',\n",
    "    unknown_value=-1\n",
    ")\n",
    "encoder.fit(X)\n",
    "print(\"\\n处理未知类别：\")\n",
    "print(encoder.transform(new_data))  # 输出：[[-1.]]"
   ]
  },
  {
   "cell_type": "markdown",
   "id": "134c858b-e9b0-40f4-a440-a3934055ba1b",
   "metadata": {},
   "source": []
  },
  {
   "cell_type": "markdown",
   "id": "c654e074-42a5-4741-bed6-de6ed95bcf32",
   "metadata": {},
   "source": [
    "## 二、OneHotEncoder：独热编码"
   ]
  },
  {
   "cell_type": "markdown",
   "id": "4e74055d-da73-4dc7-8ea5-1527c1840d6d",
   "metadata": {},
   "source": [
    "1. 核心作用\n",
    "    将类别特征转换为二进制向量，每个类别对应一个二进制列，值为 1 表示样本属于该类别。适用于无序类别（如颜色：红、绿、蓝）。\n",
    "2. 关键参数"
   ]
  },
  {
   "cell_type": "code",
   "execution_count": 2,
   "id": "55da6a0e-748c-405a-adb5-a8784f3b2f0c",
   "metadata": {},
   "outputs": [],
   "source": [
    "from sklearn.preprocessing import OneHotEncoder\n",
    "\n",
    "encoder = OneHotEncoder(\n",
    "    categories='auto',       # 类别顺序，同 OrdinalEncoder\n",
    "    drop=None,               # 是否删除冗余列（如二分类只保留一列）\n",
    "    sparse_output=True,      # 是否返回稀疏矩阵\n",
    "    dtype=np.float64,        # 输出数据类型\n",
    "    handle_unknown='error',  # 处理未知类别的方式\n",
    "    min_frequency=None,      # 最小类别频率，低于此值的类别视为不频繁\n",
    "    max_categories=None,     # 最大类别数，超过部分视为不频繁\n",
    ")"
   ]
  },
  {
   "cell_type": "markdown",
   "id": "0003a7bd-243b-4aa2-b3b2-70d03e8d0e0a",
   "metadata": {},
   "source": [
    "3. 参数详解\n",
    "    * drop\n",
    "      - None（默认）：不删除任何列；\n",
    "      - 'first'：删除每个特征的第一个类别（适用于线性模型避免共线性）；\n",
    "      - 'if_binary'：如果是二分类，只保留一列。\n",
    "    * sparse_output\n",
    "      - True（默认）：返回稀疏矩阵（节省内存，适合高维度）；\n",
    "      - False：返回密集数组。\n",
    "    * handle_unknown\n",
    "      - 'error'（默认）：遇到未知类别时抛出错误；\n",
    "      - 'ignore'：未知类别在转换时被编码为全零向量（仅适用于 sparse_output=False）。"
   ]
  },
  {
   "cell_type": "code",
   "execution_count": 3,
   "id": "da54d0e5-c202-4091-8420-6e798fba492d",
   "metadata": {},
   "outputs": [
    {
     "name": "stdout",
     "output_type": "stream",
     "text": [
      "原始数据：\n",
      "[['red']\n",
      " ['blue']\n",
      " ['green']\n",
      " ['blue']]\n",
      "\n",
      "编码后的数据：\n",
      "[[0. 0. 1.]\n",
      " [1. 0. 0.]\n",
      " [0. 1. 0.]\n",
      " [1. 0. 0.]]\n",
      "\n",
      "特征名称：\n",
      "['x0_blue' 'x0_green' 'x0_red']\n",
      "\n",
      "处理未知类别（ignore）：\n",
      "[[0. 0. 0.]]\n",
      "\n",
      "删除冗余列后：\n",
      "[[0. 1.]\n",
      " [0. 0.]\n",
      " [1. 0.]\n",
      " [0. 0.]]\n",
      "['x0_green' 'x0_red']\n"
     ]
    }
   ],
   "source": [
    "import numpy as np\n",
    "from sklearn.preprocessing import OneHotEncoder\n",
    "\n",
    "# 创建示例数据（无序类别）\n",
    "X = np.array([\n",
    "    ['red'],\n",
    "    ['blue'],\n",
    "    ['green'],\n",
    "    ['blue']\n",
    "])\n",
    "\n",
    "# 创建 OneHotEncoder 实例\n",
    "encoder = OneHotEncoder(sparse_output=False)  # 返回密集数组便于查看\n",
    "\n",
    "# 拟合并转换数据\n",
    "X_encoded = encoder.fit_transform(X)\n",
    "\n",
    "print(\"原始数据：\")\n",
    "print(X)\n",
    "print(\"\\n编码后的数据：\")\n",
    "print(X_encoded)  # 输出：[[1. 0. 0.], [0. 1. 0.], [0. 0. 1.], [0. 1. 0.]]\n",
    "\n",
    "# 查看特征名称\n",
    "print(\"\\n特征名称：\")\n",
    "print(encoder.get_feature_names_out())  # 输出：['x0_blue' 'x0_green' 'x0_red']\n",
    "\n",
    "# 处理未知类别\n",
    "new_data = np.array([['yellow']])\n",
    "encoder = OneHotEncoder(\n",
    "    sparse_output=False,\n",
    "    handle_unknown='ignore'\n",
    ")\n",
    "encoder.fit(X)\n",
    "print(\"\\n处理未知类别（ignore）：\")\n",
    "print(encoder.transform(new_data))  # 输出：[[0. 0. 0.]]\n",
    "\n",
    "# 删除冗余列（适用于线性模型）\n",
    "encoder = OneHotEncoder(\n",
    "    sparse_output=False,\n",
    "    drop='first'  # 删除每个特征的第一个类别\n",
    ")\n",
    "X_encoded_drop = encoder.fit_transform(X)\n",
    "print(\"\\n删除冗余列后：\")\n",
    "print(X_encoded_drop)  # 输出：[[0. 0.], [1. 0.], [0. 1.], [1. 0.]]\n",
    "print(encoder.get_feature_names_out())  # 输出：['x0_green' 'x0_red']"
   ]
  },
  {
   "cell_type": "markdown",
   "id": "437d9016-8bd3-46cc-bb59-cd21b74f199d",
   "metadata": {},
   "source": [
    "## 三、两种编码方法的对比"
   ]
  },
  {
   "cell_type": "markdown",
   "id": "0282ae8c-c1ce-473f-ab9f-2155f9edd209",
   "metadata": {},
   "source": [
    "|特性\t|OrdinalEncoder\t|OneHotEncoder|\n",
    "| ---- | ---- | ---- |\n",
    "|适用场景\t|有序类别（如等级、评分）\t|无序类别（如性别、国籍）|\n",
    "|输出维度\t|与特征数相同（每个特征转为一列）\t|每个类别生成一列（维度显著增加）|\n",
    "|数值含义\t|类别间存在顺序关系\t|类别间无顺序关系|\n",
    "|对模型的影响\t|可能误导模型（如线性模型误判顺序为大小）\t|避免顺序假设，但可能导致维度灾难|\n",
    "|处理未知类别\t|需显式设置 unknown_value\t|可忽略或报错|"
   ]
  },
  {
   "cell_type": "markdown",
   "id": "d8c63a89-ff90-4aa8-a23a-c33d0c4e007d",
   "metadata": {},
   "source": [
    "## 四、实际应用建议\n",
    "1. 有序类别（如 “低级”<“中级”<“高级”）：使用 OrdinalEncoder，并手动指定 categories 确保顺序正确。\n",
    "2. 无序类别（如 “红”“绿”“蓝”）：使用 OneHotEncoder，尤其在树模型以外的算法中（如线性回归、神经网络）。\n",
    "3. 高基数类别（类别数极多，如城市名）：\n",
    "    * 考虑使用 OneHotEncoder 的 min_frequency 或 max_categories 参数合并低频类别；\n",
    "    * 或使用嵌入方法（如神经网络中的嵌入层）。\n",
    "4. 与 ColumnTransformer 结合："
   ]
  },
  {
   "cell_type": "code",
   "execution_count": 4,
   "id": "1cf20656-d4d6-43ce-bf24-5f1d16051065",
   "metadata": {},
   "outputs": [],
   "source": [
    "from sklearn.compose import ColumnTransformer\n",
    "\n",
    "preprocessor = ColumnTransformer(\n",
    "    transformers=[\n",
    "        ('ordinal', OrdinalEncoder(), ['教育程度']),\n",
    "        ('onehot', OneHotEncoder(), ['性别', '职业'])\n",
    "    ]\n",
    ")"
   ]
  },
  {
   "cell_type": "markdown",
   "id": "8b35f1eb-1fd8-480b-8dc0-98f63eabb40f",
   "metadata": {},
   "source": [
    "## 五、总结\n",
    "* OrdinalEncoder：简单高效，适合有序类别，但需注意避免对模型引入错误的顺序假设。\n",
    "* OneHotEncoder：通用可靠，适合无序类别，但需注意高维度带来的计算和内存开销。"
   ]
  }
 ],
 "metadata": {
  "kernelspec": {
   "display_name": "Python 3 (ipykernel)",
   "language": "python",
   "name": "python3"
  },
  "language_info": {
   "codemirror_mode": {
    "name": "ipython",
    "version": 3
   },
   "file_extension": ".py",
   "mimetype": "text/x-python",
   "name": "python",
   "nbconvert_exporter": "python",
   "pygments_lexer": "ipython3",
   "version": "3.11.6"
  }
 },
 "nbformat": 4,
 "nbformat_minor": 5
}
