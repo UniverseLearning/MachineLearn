{
 "cells": [
  {
   "cell_type": "markdown",
   "id": "ec61ac2e-93bb-4bc8-ab02-b4d597f84ecc",
   "metadata": {},
   "source": [
    "sklearn.preprocessing.FunctionTransformer 是 scikit-learn 中用于创建自定义转换器的工具，它允许你将任意 Python 函数封装为符合 sklearn 接口的转换器，从而集成到 Pipeline 或 ColumnTransformer 中。这在需要进行自定义特征工程时非常有用。"
   ]
  },
  {
   "cell_type": "markdown",
   "id": "9de03882-c873-48f3-a2ee-3fdd20f1564d",
   "metadata": {},
   "source": [
    "## 一、核心作用与原理"
   ]
  },
  {
   "cell_type": "markdown",
   "id": "dd22ad23-5df5-4312-9743-44963cbe4f4a",
   "metadata": {},
   "source": [
    "1. 作用：\n",
    "    * 将自定义的数值转换函数（如对数变换、标准化、特征组合等）封装为 sklearn 转换器，使其能与其他预处理步骤或模型无缝衔接。\n",
    "2. 原理：\n",
    "    * 通过 func 参数指定要应用的函数；\n",
    "    * 通过 inverse_func 参数指定逆变换函数（可选，用于 inverse_transform 方法）；\n",
    "    * 支持处理二维数组（样本 × 特征），自动处理特征轴。"
   ]
  },
  {
   "cell_type": "markdown",
   "id": "06fd29ad-d023-46c8-895b-7f2150bf8955",
   "metadata": {},
   "source": [
    "## 二、关键参数详解"
   ]
  },
  {
   "cell_type": "code",
   "execution_count": 1,
   "id": "06370796-9687-4fa4-baee-9c5c281bb1ea",
   "metadata": {},
   "outputs": [],
   "source": [
    "from sklearn.preprocessing import FunctionTransformer\n",
    "\n",
    "transformer = FunctionTransformer(\n",
    "    func=None,                 # 要应用的变换函数\n",
    "    inverse_func=None,         # 逆变换函数（可选）\n",
    "    validate=False,            # 是否验证输入是否为二维数组\n",
    "    accept_sparse=False,       # 是否接受稀疏矩阵\n",
    "    check_inverse=True,        # 是否检查逆变换的正确性\n",
    "    kw_args=None,              # 传递给 func 的额外参数\n",
    "    inv_kw_args=None           # 传递给 inverse_func 的额外参数\n",
    ")"
   ]
  },
  {
   "cell_type": "markdown",
   "id": "e34dccb7-019c-43d5-90d2-473da7053cde",
   "metadata": {},
   "source": [
    "1. func：    \n",
    "    自定义的变换函数，输入和输出应为二维数组（形状为 [n_samples, n_features]）。若为 None，则使用恒等变换（即不改变输入）。\n",
    "2. inverse_func：    \n",
    "    逆变换函数，用于 inverse_transform 方法。例如，若 func 是对数变换，则 inverse_func 应为指数变换。\n",
    "3. validate：\n",
    "    * True：强制验证输入是否为二维数组，且 dtype 为 float；\n",
    "    * False（默认）：跳过验证，提高性能（需确保输入格式正确）。"
   ]
  },
  {
   "cell_type": "markdown",
   "id": "bf43dcb5-2ed0-4ab1-a384-4d1144eac281",
   "metadata": {},
   "source": [
    "## 三、案例代码：自定义转换器"
   ]
  },
  {
   "cell_type": "markdown",
   "id": "f2f3f8dd-a28f-4db7-97ff-ac5073a076a5",
   "metadata": {},
   "source": [
    "### 1. 简单数值变换（对数变换）"
   ]
  },
  {
   "cell_type": "code",
   "execution_count": 2,
   "id": "cd0b9278-3ef9-484e-bad3-e4106addc140",
   "metadata": {},
   "outputs": [
    {
     "name": "stdout",
     "output_type": "stream",
     "text": [
      "对数变换后的预测值: [5.26540622]\n",
      "还原后的预测值: [192.52490582]\n"
     ]
    }
   ],
   "source": [
    "import numpy as np\n",
    "from sklearn.preprocessing import FunctionTransformer\n",
    "from sklearn.pipeline import Pipeline\n",
    "from sklearn.linear_model import LinearRegression\n",
    "\n",
    "# 自定义对数变换函数\n",
    "def log_transform(X):\n",
    "    return np.log1p(X)  # 使用 log(1+x) 避免对数处理零值\n",
    "\n",
    "# 自定义逆变换函数（用于还原预测结果）\n",
    "def exp_transform(X):\n",
    "    return np.expm1(X)  # exp(x)-1 是 log(1+x) 的逆运算\n",
    "\n",
    "# 创建 FunctionTransformer\n",
    "log_transformer = FunctionTransformer(\n",
    "    func=log_transform,\n",
    "    inverse_func=exp_transform,\n",
    "    validate=True\n",
    ")\n",
    "\n",
    "# 示例数据（右偏分布）\n",
    "X = np.array([[1], [10], [100], [1000]])\n",
    "y = np.array([2, 4, 6, 8])\n",
    "\n",
    "# 构建包含自定义转换器的管道\n",
    "pipeline = Pipeline([\n",
    "    ('log_transform', log_transformer),\n",
    "    ('regressor', LinearRegression())\n",
    "])\n",
    "\n",
    "# 训练模型\n",
    "pipeline.fit(X, y)\n",
    "\n",
    "# 预测并还原结果\n",
    "X_new = np.array([[50]])\n",
    "y_pred = pipeline.predict(X_new)\n",
    "print(\"对数变换后的预测值:\", y_pred)  # 输出：[5.19...]\n",
    "print(\"还原后的预测值:\", exp_transform(y_pred))  # 输出：[180.8...]"
   ]
  },
  {
   "cell_type": "markdown",
   "id": "71d2ef0d-9208-4b43-9e12-425bf61c70fd",
   "metadata": {},
   "source": [
    "### 2. 特征组合（创建交互特征）"
   ]
  },
  {
   "cell_type": "code",
   "execution_count": 3,
   "id": "25c4b24f-2081-48f5-85a2-8d592b1c6044",
   "metadata": {},
   "outputs": [
    {
     "name": "stdout",
     "output_type": "stream",
     "text": [
      "原始特征:\n",
      " [[1 2]\n",
      " [3 4]\n",
      " [5 6]]\n",
      "转换后特征:\n",
      " [[ 1.  2.  2.]\n",
      " [ 3.  4. 12.]\n",
      " [ 5.  6. 30.]]\n"
     ]
    }
   ],
   "source": [
    "# 自定义特征组合函数\n",
    "def combine_features(X):\n",
    "    \"\"\"将特征两两相乘，创建交互特征\"\"\"\n",
    "    n_samples, n_features = X.shape\n",
    "    # 创建空数组存储组合特征\n",
    "    combined = np.zeros((n_samples, n_features * (n_features - 1) // 2))\n",
    "    col_idx = 0\n",
    "    for i in range(n_features):\n",
    "        for j in range(i + 1, n_features):\n",
    "            combined[:, col_idx] = X[:, i] * X[:, j]\n",
    "            col_idx += 1\n",
    "    return np.hstack([X, combined])  # 合并原始特征和组合特征\n",
    "\n",
    "# 创建转换器\n",
    "feature_combiner = FunctionTransformer(\n",
    "    func=combine_features,\n",
    "    validate=True\n",
    ")\n",
    "\n",
    "# 示例数据\n",
    "X = np.array([\n",
    "    [1, 2],\n",
    "    [3, 4],\n",
    "    [5, 6]\n",
    "])\n",
    "\n",
    "# 转换数据\n",
    "X_transformed = feature_combiner.transform(X)\n",
    "print(\"原始特征:\\n\", X)\n",
    "print(\"转换后特征:\\n\", X_transformed)\n",
    "# 输出：\n",
    "# 原始特征:\n",
    "#  [[1 2]\n",
    "#   [3 4]\n",
    "#   [5 6]]\n",
    "# 转换后特征:\n",
    "#  [[ 1.  2.  2.]   # 原始特征：[1, 2]，组合特征：1*2=2\n",
    "#   [ 3.  4. 12.]   # 原始特征：[3, 4]，组合特征：3*4=12\n",
    "#   [ 5.  6. 30.]]  # 原始特征：[5, 6]，组合特征：5*6=30"
   ]
  },
  {
   "cell_type": "markdown",
   "id": "a1df2130-552b-46e4-afa9-c1af906a5fe8",
   "metadata": {},
   "source": [
    "## 3. 处理特定列（结合 ColumnTransformer）"
   ]
  },
  {
   "cell_type": "code",
   "execution_count": 4,
   "id": "aabc4285-a5d6-4db5-b4be-2a8da6ebe0cd",
   "metadata": {},
   "outputs": [
    {
     "name": "stdout",
     "output_type": "stream",
     "text": [
      "转换后数据:\n",
      " [['6.90875477931522' 'A']\n",
      " ['7.601402334583733' 'B']\n",
      " ['8.006700845440367' 'A']]\n"
     ]
    }
   ],
   "source": [
    "from sklearn.compose import ColumnTransformer\n",
    "\n",
    "# 示例数据（包含数值和分类特征）\n",
    "X = np.array([\n",
    "    [1000, \"A\"],\n",
    "    [2000, \"B\"],\n",
    "    [3000, \"A\"]\n",
    "])\n",
    "\n",
    "# 自定义对数变换函数（仅处理第一列）\n",
    "def log_transform_first_col(X):\n",
    "    X_copy = X.copy()\n",
    "    X_copy[:, 0] = np.log1p(X_copy[:, 0].astype(float))\n",
    "    return X_copy\n",
    "\n",
    "# 创建列转换器\n",
    "preprocessor = ColumnTransformer(\n",
    "    transformers=[\n",
    "        ('log_transform', FunctionTransformer(log_transform_first_col), [0]),\n",
    "        ('passthrough', 'passthrough', [1])  # 保留第二列不变\n",
    "    ]\n",
    ")\n",
    "\n",
    "# 转换数据\n",
    "X_transformed = preprocessor.fit_transform(X)\n",
    "print(\"转换后数据:\\n\", X_transformed)\n",
    "# 输出：\n",
    "# [[6.90775528 'A']\n",
    "#  [7.60090246 'B']\n",
    "#  [8.00636757 'A']]"
   ]
  },
  {
   "cell_type": "markdown",
   "id": "5a8ce3d6-50ee-4cc5-a55f-66714d5dd59e",
   "metadata": {},
   "source": [
    "## 四、实际应用场景"
   ]
  },
  {
   "cell_type": "markdown",
   "id": "78e7c620-cb3f-4e20-8c51-d76b619c9c24",
   "metadata": {},
   "source": [
    "1. 特定领域的变换：    \n",
    "如金融数据的对数变换、图像处理中的灰度转换、音频数据的梅尔频率变换等。\n",
    "2. 特征组合与提取：    \n",
    "创建自定义特征组合（如面积 = 长 × 宽）、提取统计特征（如标准差、偏度）。\n",
    "3. 数据清洗：    \n",
    "处理缺失值、异常值或特定格式的数据转换。\n",
    "4. 与 Pipeline 集成：    \n",
    "将自定义变换纳入自动化工作流，确保训练和预测阶段的处理逻辑一致。"
   ]
  },
  {
   "cell_type": "markdown",
   "id": "b104b1aa-6383-4265-a209-395337dd6a33",
   "metadata": {},
   "source": [
    "## 五、注意事项"
   ]
  },
  {
   "cell_type": "markdown",
   "id": "0c9eb722-8063-453f-a61d-ca8c5a8679d1",
   "metadata": {},
   "source": [
    "1. 输入输出格式：\n",
    "    * func 和 inverse_func 应接受并返回二维数组（形状为 [n_samples, n_features]）；\n",
    "    * 若处理单特征，需确保输入形状为 [n_samples, 1]。\n",
    "2. 性能考虑：\n",
    "    * 设置 validate=False 可跳过输入验证，提高处理速度；\n",
    "    * 对于大型数据集，考虑使用向量化操作或并行计算。\n",
    "3. 可逆性：\n",
    "    * 若需使用 inverse_transform（如在预测后还原结果），需确保 inverse_func 是 func 的真正逆运算。"
   ]
  }
 ],
 "metadata": {
  "kernelspec": {
   "display_name": "Python 3 (ipykernel)",
   "language": "python",
   "name": "python3"
  },
  "language_info": {
   "codemirror_mode": {
    "name": "ipython",
    "version": 3
   },
   "file_extension": ".py",
   "mimetype": "text/x-python",
   "name": "python",
   "nbconvert_exporter": "python",
   "pygments_lexer": "ipython3",
   "version": "3.11.6"
  }
 },
 "nbformat": 4,
 "nbformat_minor": 5
}
