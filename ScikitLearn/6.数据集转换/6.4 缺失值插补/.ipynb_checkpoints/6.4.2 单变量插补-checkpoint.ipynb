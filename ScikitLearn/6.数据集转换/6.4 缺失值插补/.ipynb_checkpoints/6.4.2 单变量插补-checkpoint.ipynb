{
 "cells": [
  {
   "cell_type": "markdown",
   "id": "7be76690-800b-4f1c-8e74-e03cd01e9958",
   "metadata": {},
   "source": [
    "sklearn.impute.SimpleImputer 是 scikit-learn 中用于单变量缺失值插补的基础工具，它通过简单统计量（如均值、中位数）或固定值填充缺失值。以下是其核心参数的详细解释及应用案例："
   ]
  },
  {
   "cell_type": "markdown",
   "id": "cb544640-0ed6-43b5-bc96-21843341ad3e",
   "metadata": {},
   "source": [
    "## 一、核心参数详解\n",
    "1. missing_values=np.nan\n",
    " * 作用：指定数据中缺失值的表示方式。\n",
    " * 示例：\n",
    "    - 若缺失值用 -1 表示：missing_values=-1。\n",
    "    - 若用字符串 'nan' 表示：missing_values='nan'。\n",
    "2. strategy='mean'\n",
    " * 作用：指定插补策略。\n",
    " * 可选值：\n",
    "    - 'mean'（默认）：用均值填充（仅适用于数值型数据）。\n",
    "    - 'median'：用中位数填充（对异常值更鲁棒，适用于数值型数据）。\n",
    "    - 'most_frequent'：用众数填充（适用于数值型和分类数据）。\n",
    "    - 'constant'：用固定值填充（需配合 fill_value 参数）。\n",
    "3. fill_value=None\n",
    " * 作用：当 strategy='constant' 时，指定填充的固定值。\n",
    " * 示例：\n",
    "    - 用 0 填充：fill_value=0。\n",
    "    - 用字符串 'missing' 填充分类特征：fill_value='missing'。\n",
    "4. verbose=0\n",
    " * 作用：控制插补过程的日志级别。\n",
    " * 可选值：\n",
    "    - 0（默认）：不输出日志。\n",
    "    - 1：输出基本日志。\n",
    "    - 2：输出详细日志。\n",
    "5. copy=True\n",
    " * 作用：是否复制数据进行插补，避免原地修改原始数据。\n",
    " * 示例：\n",
    "    - copy=False：直接在原始数据上修改，节省内存。\n",
    "6. add_indicator=False\n",
    " * 作用：是否添加缺失值指示符列。\n",
    " * 效果：\n",
    "    - 若为 True，输出会增加二进制列，指示每个样本的缺失位置。\n",
    " * 应用场景：\n",
    "    - 缺失值的位置可能包含信息时（如医疗数据中某些指标未测量可能暗示特殊情况）。"
   ]
  },
  {
   "cell_type": "markdown",
   "id": "be23ed4f-779c-49f4-a17a-18c4fdc31cc4",
   "metadata": {},
   "source": [
    "## 二、代码样例：数值型数据插补"
   ]
  },
  {
   "cell_type": "markdown",
   "id": "cdfc6b24-ba7c-476f-b043-90ee8793c6ea",
   "metadata": {},
   "source": [
    "### 1. 均值 / 中位数插补"
   ]
  },
  {
   "cell_type": "code",
   "execution_count": 1,
   "id": "f4b5a7d1-bb7c-4f16-b8cf-9846e95224b7",
   "metadata": {},
   "outputs": [
    {
     "name": "stdout",
     "output_type": "stream",
     "text": [
      "均值插补结果：\n",
      "[[1.  2.  7.5]\n",
      " [4.  5.  6. ]\n",
      " [7.  8.  9. ]]\n",
      "\n",
      "中位数插补结果：\n",
      "[[1.  2.  7.5]\n",
      " [4.  5.  6. ]\n",
      " [7.  8.  9. ]]\n"
     ]
    }
   ],
   "source": [
    "import numpy as np\n",
    "from sklearn.impute import SimpleImputer\n",
    "\n",
    "# 创建含缺失值的数值型数据\n",
    "X = np.array([\n",
    "    [1, 2, np.nan],\n",
    "    [4, np.nan, 6],\n",
    "    [7, 8, 9]\n",
    "])\n",
    "\n",
    "# 均值插补\n",
    "mean_imputer = SimpleImputer(strategy='mean')\n",
    "X_mean = mean_imputer.fit_transform(X)\n",
    "print(\"均值插补结果：\")\n",
    "print(X_mean)\n",
    "# 输出：\n",
    "# [[1. 2. 7.5]\n",
    "#  [4. 5. 6. ]\n",
    "#  [7. 8. 9. ]]\n",
    "\n",
    "# 中位数插补\n",
    "median_imputer = SimpleImputer(strategy='median')\n",
    "X_median = median_imputer.fit_transform(X)\n",
    "print(\"\\n中位数插补结果：\")\n",
    "print(X_median)\n",
    "# 输出：\n",
    "# [[1. 2. 7.5]\n",
    "#  [4. 5. 6. ]\n",
    "#  [7. 8. 9. ]]"
   ]
  },
  {
   "cell_type": "markdown",
   "id": "d1b89395-8805-427a-99c2-cbcd040d8678",
   "metadata": {},
   "source": [
    "### 2. 常数插补"
   ]
  },
  {
   "cell_type": "code",
   "execution_count": 2,
   "id": "16d738d1-77e8-4aca-a77a-f4d93265c01c",
   "metadata": {},
   "outputs": [
    {
     "name": "stdout",
     "output_type": "stream",
     "text": [
      "\n",
      "常数插补结果（用0填充）：\n",
      "[[1. 2. 0.]\n",
      " [4. 0. 6.]\n",
      " [7. 8. 9.]]\n"
     ]
    }
   ],
   "source": [
    "# 常数插补（用0填充）\n",
    "constant_imputer = SimpleImputer(strategy='constant', fill_value=0)\n",
    "X_constant = constant_imputer.fit_transform(X)\n",
    "print(\"\\n常数插补结果（用0填充）：\")\n",
    "print(X_constant)\n",
    "# 输出：\n",
    "# [[1. 2. 0.]\n",
    "#  [4. 0. 6.]\n",
    "#  [7. 8. 9.]]"
   ]
  },
  {
   "cell_type": "markdown",
   "id": "3ef73af3-b81f-4ac5-a76e-a4b6743fa99b",
   "metadata": {},
   "source": [
    "### 3. 添加缺失值指示符"
   ]
  },
  {
   "cell_type": "code",
   "execution_count": 3,
   "id": "dbcc2f76-bb1d-4ff7-9f1b-4fc0f5be2376",
   "metadata": {},
   "outputs": [
    {
     "name": "stdout",
     "output_type": "stream",
     "text": [
      "\n",
      "带缺失值指示符的结果（最后三列是指示符）：\n",
      "[[1.  2.  7.5 0.  1. ]\n",
      " [4.  5.  6.  1.  0. ]\n",
      " [7.  8.  9.  0.  0. ]]\n"
     ]
    }
   ],
   "source": [
    "# 添加缺失值指示符\n",
    "indicator_imputer = SimpleImputer(add_indicator=True)\n",
    "X_indicator = indicator_imputer.fit_transform(X)\n",
    "print(\"\\n带缺失值指示符的结果（最后三列是指示符）：\")\n",
    "print(X_indicator)\n",
    "# 输出：\n",
    "# [[1. 2. 7.5 0. 0. 1.]  # 第三列有缺失值\n",
    "#  [4. 5. 6. 0. 1. 0.]  # 第二列有缺失值\n",
    "#  [7. 8. 9. 0. 0. 0.]]  # 无缺失值"
   ]
  },
  {
   "cell_type": "markdown",
   "id": "e2861327-7c39-40bc-affd-2e79f3ca00c0",
   "metadata": {},
   "source": [
    "## 三、代码样例：分类数据插补"
   ]
  },
  {
   "cell_type": "markdown",
   "id": "b4920baf-a7bb-4cf0-b7ba-69610217e14d",
   "metadata": {},
   "source": [
    "### 1. 众数插补"
   ]
  },
  {
   "cell_type": "code",
   "execution_count": 4,
   "id": "2fc73e59-3ae6-4629-affe-1454a187df0d",
   "metadata": {},
   "outputs": [
    {
     "name": "stdout",
     "output_type": "stream",
     "text": [
      "\n",
      "分类数据众数插补结果：\n",
      "[['red' 'apple' 'banana']\n",
      " ['blue' 'apple' 'banana']\n",
      " ['red' 'apple' 'orange']]\n"
     ]
    }
   ],
   "source": [
    "# 创建含缺失值的分类数据\n",
    "X_cat = np.array([\n",
    "    ['red', 'apple', np.nan],\n",
    "    ['blue', np.nan, 'banana'],\n",
    "    ['red', 'apple', 'orange']\n",
    "], dtype=object)\n",
    "\n",
    "# 众数插补\n",
    "mode_imputer = SimpleImputer(strategy='most_frequent')\n",
    "X_cat_mode = mode_imputer.fit_transform(X_cat)\n",
    "print(\"\\n分类数据众数插补结果：\")\n",
    "print(X_cat_mode)\n",
    "# 输出：\n",
    "# [['red' 'apple' 'orange']\n",
    "#  ['blue' 'apple' 'banana']\n",
    "#  ['red' 'apple' 'orange']]"
   ]
  },
  {
   "cell_type": "markdown",
   "id": "34b491bf-6805-4a6c-92f0-b3f915a37018",
   "metadata": {},
   "source": [
    "### 2. 常数插补（自定义填充值）"
   ]
  },
  {
   "cell_type": "code",
   "execution_count": 5,
   "id": "911bf81c-5ba8-495f-87ed-d1aac04a486b",
   "metadata": {},
   "outputs": [
    {
     "name": "stdout",
     "output_type": "stream",
     "text": [
      "\n",
      "分类数据常数插补结果：\n",
      "[['red' 'apple' 'unknown']\n",
      " ['blue' 'unknown' 'banana']\n",
      " ['red' 'apple' 'orange']]\n"
     ]
    }
   ],
   "source": [
    "# 常数插补（用 'unknown' 填充）\n",
    "constant_cat_imputer = SimpleImputer(\n",
    "    strategy='constant', \n",
    "    fill_value='unknown'\n",
    ")\n",
    "X_cat_constant = constant_cat_imputer.fit_transform(X_cat)\n",
    "print(\"\\n分类数据常数插补结果：\")\n",
    "print(X_cat_constant)\n",
    "# 输出：\n",
    "# [['red' 'apple' 'unknown']\n",
    "#  ['blue' 'unknown' 'banana']\n",
    "#  ['red' 'apple' 'orange']]"
   ]
  },
  {
   "cell_type": "markdown",
   "id": "fa66e9fe-3537-4e5b-8860-23263fe05c01",
   "metadata": {},
   "source": [
    "## 四、代码样例：混合数据类型插补"
   ]
  },
  {
   "cell_type": "code",
   "execution_count": 6,
   "id": "ea4c501d-2265-4c11-9e11-6c96e98babb3",
   "metadata": {},
   "outputs": [
    {
     "ename": "ValueError",
     "evalue": "SimpleImputer does not support data with dtype <U32. Please provide either a numeric array (with a floating point or integer dtype) or categorical data represented either as an array with integer dtype or an array of string values with an object dtype.",
     "output_type": "error",
     "traceback": [
      "\u001b[31m---------------------------------------------------------------------------\u001b[39m",
      "\u001b[31mValueError\u001b[39m                                Traceback (most recent call last)",
      "\u001b[36mCell\u001b[39m\u001b[36m \u001b[39m\u001b[32mIn[6]\u001b[39m\u001b[32m, line 18\u001b[39m\n\u001b[32m     10\u001b[39m \u001b[38;5;66;03m# 分别处理数值列和分类列\u001b[39;00m\n\u001b[32m     11\u001b[39m preprocessor = ColumnTransformer(\n\u001b[32m     12\u001b[39m     transformers=[\n\u001b[32m     13\u001b[39m         (\u001b[33m'\u001b[39m\u001b[33mnum\u001b[39m\u001b[33m'\u001b[39m, SimpleImputer(strategy=\u001b[33m'\u001b[39m\u001b[33mmean\u001b[39m\u001b[33m'\u001b[39m), [\u001b[32m0\u001b[39m, \u001b[32m2\u001b[39m]),  \u001b[38;5;66;03m# 数值列\u001b[39;00m\n\u001b[32m     14\u001b[39m         (\u001b[33m'\u001b[39m\u001b[33mcat\u001b[39m\u001b[33m'\u001b[39m, SimpleImputer(strategy=\u001b[33m'\u001b[39m\u001b[33mmost_frequent\u001b[39m\u001b[33m'\u001b[39m), [\u001b[32m1\u001b[39m])  \u001b[38;5;66;03m# 分类列\u001b[39;00m\n\u001b[32m     15\u001b[39m     ]\n\u001b[32m     16\u001b[39m )\n\u001b[32m---> \u001b[39m\u001b[32m18\u001b[39m X_mixed_imputed = \u001b[43mpreprocessor\u001b[49m\u001b[43m.\u001b[49m\u001b[43mfit_transform\u001b[49m\u001b[43m(\u001b[49m\u001b[43mX_mixed\u001b[49m\u001b[43m)\u001b[49m\n\u001b[32m     19\u001b[39m \u001b[38;5;28mprint\u001b[39m(\u001b[33m\"\u001b[39m\u001b[38;5;130;01m\\n\u001b[39;00m\u001b[33m混合数据插补结果：\u001b[39m\u001b[33m\"\u001b[39m)\n\u001b[32m     20\u001b[39m \u001b[38;5;28mprint\u001b[39m(X_mixed_imputed)\n",
      "\u001b[36mFile \u001b[39m\u001b[32mD:\\PySpace\\PythonMachineLearn\\.venv\\Lib\\site-packages\\sklearn\\utils\\_set_output.py:319\u001b[39m, in \u001b[36m_wrap_method_output.<locals>.wrapped\u001b[39m\u001b[34m(self, X, *args, **kwargs)\u001b[39m\n\u001b[32m    317\u001b[39m \u001b[38;5;129m@wraps\u001b[39m(f)\n\u001b[32m    318\u001b[39m \u001b[38;5;28;01mdef\u001b[39;00m\u001b[38;5;250m \u001b[39m\u001b[34mwrapped\u001b[39m(\u001b[38;5;28mself\u001b[39m, X, *args, **kwargs):\n\u001b[32m--> \u001b[39m\u001b[32m319\u001b[39m     data_to_wrap = \u001b[43mf\u001b[49m\u001b[43m(\u001b[49m\u001b[38;5;28;43mself\u001b[39;49m\u001b[43m,\u001b[49m\u001b[43m \u001b[49m\u001b[43mX\u001b[49m\u001b[43m,\u001b[49m\u001b[43m \u001b[49m\u001b[43m*\u001b[49m\u001b[43margs\u001b[49m\u001b[43m,\u001b[49m\u001b[43m \u001b[49m\u001b[43m*\u001b[49m\u001b[43m*\u001b[49m\u001b[43mkwargs\u001b[49m\u001b[43m)\u001b[49m\n\u001b[32m    320\u001b[39m     \u001b[38;5;28;01mif\u001b[39;00m \u001b[38;5;28misinstance\u001b[39m(data_to_wrap, \u001b[38;5;28mtuple\u001b[39m):\n\u001b[32m    321\u001b[39m         \u001b[38;5;66;03m# only wrap the first output for cross decomposition\u001b[39;00m\n\u001b[32m    322\u001b[39m         return_tuple = (\n\u001b[32m    323\u001b[39m             _wrap_data_with_container(method, data_to_wrap[\u001b[32m0\u001b[39m], X, \u001b[38;5;28mself\u001b[39m),\n\u001b[32m    324\u001b[39m             *data_to_wrap[\u001b[32m1\u001b[39m:],\n\u001b[32m    325\u001b[39m         )\n",
      "\u001b[36mFile \u001b[39m\u001b[32mD:\\PySpace\\PythonMachineLearn\\.venv\\Lib\\site-packages\\sklearn\\base.py:1389\u001b[39m, in \u001b[36m_fit_context.<locals>.decorator.<locals>.wrapper\u001b[39m\u001b[34m(estimator, *args, **kwargs)\u001b[39m\n\u001b[32m   1382\u001b[39m     estimator._validate_params()\n\u001b[32m   1384\u001b[39m \u001b[38;5;28;01mwith\u001b[39;00m config_context(\n\u001b[32m   1385\u001b[39m     skip_parameter_validation=(\n\u001b[32m   1386\u001b[39m         prefer_skip_nested_validation \u001b[38;5;129;01mor\u001b[39;00m global_skip_validation\n\u001b[32m   1387\u001b[39m     )\n\u001b[32m   1388\u001b[39m ):\n\u001b[32m-> \u001b[39m\u001b[32m1389\u001b[39m     \u001b[38;5;28;01mreturn\u001b[39;00m \u001b[43mfit_method\u001b[49m\u001b[43m(\u001b[49m\u001b[43mestimator\u001b[49m\u001b[43m,\u001b[49m\u001b[43m \u001b[49m\u001b[43m*\u001b[49m\u001b[43margs\u001b[49m\u001b[43m,\u001b[49m\u001b[43m \u001b[49m\u001b[43m*\u001b[49m\u001b[43m*\u001b[49m\u001b[43mkwargs\u001b[49m\u001b[43m)\u001b[49m\n",
      "\u001b[36mFile \u001b[39m\u001b[32mD:\\PySpace\\PythonMachineLearn\\.venv\\Lib\\site-packages\\sklearn\\compose\\_column_transformer.py:1001\u001b[39m, in \u001b[36mColumnTransformer.fit_transform\u001b[39m\u001b[34m(self, X, y, **params)\u001b[39m\n\u001b[32m    998\u001b[39m \u001b[38;5;28;01melse\u001b[39;00m:\n\u001b[32m    999\u001b[39m     routed_params = \u001b[38;5;28mself\u001b[39m._get_empty_routing()\n\u001b[32m-> \u001b[39m\u001b[32m1001\u001b[39m result = \u001b[38;5;28;43mself\u001b[39;49m\u001b[43m.\u001b[49m\u001b[43m_call_func_on_transformers\u001b[49m\u001b[43m(\u001b[49m\n\u001b[32m   1002\u001b[39m \u001b[43m    \u001b[49m\u001b[43mX\u001b[49m\u001b[43m,\u001b[49m\n\u001b[32m   1003\u001b[39m \u001b[43m    \u001b[49m\u001b[43my\u001b[49m\u001b[43m,\u001b[49m\n\u001b[32m   1004\u001b[39m \u001b[43m    \u001b[49m\u001b[43m_fit_transform_one\u001b[49m\u001b[43m,\u001b[49m\n\u001b[32m   1005\u001b[39m \u001b[43m    \u001b[49m\u001b[43mcolumn_as_labels\u001b[49m\u001b[43m=\u001b[49m\u001b[38;5;28;43;01mFalse\u001b[39;49;00m\u001b[43m,\u001b[49m\n\u001b[32m   1006\u001b[39m \u001b[43m    \u001b[49m\u001b[43mrouted_params\u001b[49m\u001b[43m=\u001b[49m\u001b[43mrouted_params\u001b[49m\u001b[43m,\u001b[49m\n\u001b[32m   1007\u001b[39m \u001b[43m\u001b[49m\u001b[43m)\u001b[49m\n\u001b[32m   1009\u001b[39m \u001b[38;5;28;01mif\u001b[39;00m \u001b[38;5;129;01mnot\u001b[39;00m result:\n\u001b[32m   1010\u001b[39m     \u001b[38;5;28mself\u001b[39m._update_fitted_transformers([])\n",
      "\u001b[36mFile \u001b[39m\u001b[32mD:\\PySpace\\PythonMachineLearn\\.venv\\Lib\\site-packages\\sklearn\\compose\\_column_transformer.py:910\u001b[39m, in \u001b[36mColumnTransformer._call_func_on_transformers\u001b[39m\u001b[34m(self, X, y, func, column_as_labels, routed_params)\u001b[39m\n\u001b[32m    898\u001b[39m             extra_args = {}\n\u001b[32m    899\u001b[39m         jobs.append(\n\u001b[32m    900\u001b[39m             delayed(func)(\n\u001b[32m    901\u001b[39m                 transformer=clone(trans) \u001b[38;5;28;01mif\u001b[39;00m \u001b[38;5;129;01mnot\u001b[39;00m fitted \u001b[38;5;28;01melse\u001b[39;00m trans,\n\u001b[32m   (...)\u001b[39m\u001b[32m    907\u001b[39m             )\n\u001b[32m    908\u001b[39m         )\n\u001b[32m--> \u001b[39m\u001b[32m910\u001b[39m     \u001b[38;5;28;01mreturn\u001b[39;00m \u001b[43mParallel\u001b[49m\u001b[43m(\u001b[49m\u001b[43mn_jobs\u001b[49m\u001b[43m=\u001b[49m\u001b[38;5;28;43mself\u001b[39;49m\u001b[43m.\u001b[49m\u001b[43mn_jobs\u001b[49m\u001b[43m)\u001b[49m\u001b[43m(\u001b[49m\u001b[43mjobs\u001b[49m\u001b[43m)\u001b[49m\n\u001b[32m    912\u001b[39m \u001b[38;5;28;01mexcept\u001b[39;00m \u001b[38;5;167;01mValueError\u001b[39;00m \u001b[38;5;28;01mas\u001b[39;00m e:\n\u001b[32m    913\u001b[39m     \u001b[38;5;28;01mif\u001b[39;00m \u001b[33m\"\u001b[39m\u001b[33mExpected 2D array, got 1D array instead\u001b[39m\u001b[33m\"\u001b[39m \u001b[38;5;129;01min\u001b[39;00m \u001b[38;5;28mstr\u001b[39m(e):\n",
      "\u001b[36mFile \u001b[39m\u001b[32mD:\\PySpace\\PythonMachineLearn\\.venv\\Lib\\site-packages\\sklearn\\utils\\parallel.py:77\u001b[39m, in \u001b[36mParallel.__call__\u001b[39m\u001b[34m(self, iterable)\u001b[39m\n\u001b[32m     72\u001b[39m config = get_config()\n\u001b[32m     73\u001b[39m iterable_with_config = (\n\u001b[32m     74\u001b[39m     (_with_config(delayed_func, config), args, kwargs)\n\u001b[32m     75\u001b[39m     \u001b[38;5;28;01mfor\u001b[39;00m delayed_func, args, kwargs \u001b[38;5;129;01min\u001b[39;00m iterable\n\u001b[32m     76\u001b[39m )\n\u001b[32m---> \u001b[39m\u001b[32m77\u001b[39m \u001b[38;5;28;01mreturn\u001b[39;00m \u001b[38;5;28;43msuper\u001b[39;49m\u001b[43m(\u001b[49m\u001b[43m)\u001b[49m\u001b[43m.\u001b[49m\u001b[34;43m__call__\u001b[39;49m\u001b[43m(\u001b[49m\u001b[43miterable_with_config\u001b[49m\u001b[43m)\u001b[49m\n",
      "\u001b[36mFile \u001b[39m\u001b[32mD:\\PySpace\\PythonMachineLearn\\.venv\\Lib\\site-packages\\joblib\\parallel.py:1985\u001b[39m, in \u001b[36mParallel.__call__\u001b[39m\u001b[34m(self, iterable)\u001b[39m\n\u001b[32m   1983\u001b[39m     output = \u001b[38;5;28mself\u001b[39m._get_sequential_output(iterable)\n\u001b[32m   1984\u001b[39m     \u001b[38;5;28mnext\u001b[39m(output)\n\u001b[32m-> \u001b[39m\u001b[32m1985\u001b[39m     \u001b[38;5;28;01mreturn\u001b[39;00m output \u001b[38;5;28;01mif\u001b[39;00m \u001b[38;5;28mself\u001b[39m.return_generator \u001b[38;5;28;01melse\u001b[39;00m \u001b[38;5;28;43mlist\u001b[39;49m\u001b[43m(\u001b[49m\u001b[43moutput\u001b[49m\u001b[43m)\u001b[49m\n\u001b[32m   1987\u001b[39m \u001b[38;5;66;03m# Let's create an ID that uniquely identifies the current call. If the\u001b[39;00m\n\u001b[32m   1988\u001b[39m \u001b[38;5;66;03m# call is interrupted early and that the same instance is immediately\u001b[39;00m\n\u001b[32m   1989\u001b[39m \u001b[38;5;66;03m# reused, this id will be used to prevent workers that were\u001b[39;00m\n\u001b[32m   1990\u001b[39m \u001b[38;5;66;03m# concurrently finalizing a task from the previous call to run the\u001b[39;00m\n\u001b[32m   1991\u001b[39m \u001b[38;5;66;03m# callback.\u001b[39;00m\n\u001b[32m   1992\u001b[39m \u001b[38;5;28;01mwith\u001b[39;00m \u001b[38;5;28mself\u001b[39m._lock:\n",
      "\u001b[36mFile \u001b[39m\u001b[32mD:\\PySpace\\PythonMachineLearn\\.venv\\Lib\\site-packages\\joblib\\parallel.py:1913\u001b[39m, in \u001b[36mParallel._get_sequential_output\u001b[39m\u001b[34m(self, iterable)\u001b[39m\n\u001b[32m   1911\u001b[39m \u001b[38;5;28mself\u001b[39m.n_dispatched_batches += \u001b[32m1\u001b[39m\n\u001b[32m   1912\u001b[39m \u001b[38;5;28mself\u001b[39m.n_dispatched_tasks += \u001b[32m1\u001b[39m\n\u001b[32m-> \u001b[39m\u001b[32m1913\u001b[39m res = \u001b[43mfunc\u001b[49m\u001b[43m(\u001b[49m\u001b[43m*\u001b[49m\u001b[43margs\u001b[49m\u001b[43m,\u001b[49m\u001b[43m \u001b[49m\u001b[43m*\u001b[49m\u001b[43m*\u001b[49m\u001b[43mkwargs\u001b[49m\u001b[43m)\u001b[49m\n\u001b[32m   1914\u001b[39m \u001b[38;5;28mself\u001b[39m.n_completed_tasks += \u001b[32m1\u001b[39m\n\u001b[32m   1915\u001b[39m \u001b[38;5;28mself\u001b[39m.print_progress()\n",
      "\u001b[36mFile \u001b[39m\u001b[32mD:\\PySpace\\PythonMachineLearn\\.venv\\Lib\\site-packages\\sklearn\\utils\\parallel.py:139\u001b[39m, in \u001b[36m_FuncWrapper.__call__\u001b[39m\u001b[34m(self, *args, **kwargs)\u001b[39m\n\u001b[32m    137\u001b[39m     config = {}\n\u001b[32m    138\u001b[39m \u001b[38;5;28;01mwith\u001b[39;00m config_context(**config):\n\u001b[32m--> \u001b[39m\u001b[32m139\u001b[39m     \u001b[38;5;28;01mreturn\u001b[39;00m \u001b[38;5;28;43mself\u001b[39;49m\u001b[43m.\u001b[49m\u001b[43mfunction\u001b[49m\u001b[43m(\u001b[49m\u001b[43m*\u001b[49m\u001b[43margs\u001b[49m\u001b[43m,\u001b[49m\u001b[43m \u001b[49m\u001b[43m*\u001b[49m\u001b[43m*\u001b[49m\u001b[43mkwargs\u001b[49m\u001b[43m)\u001b[49m\n",
      "\u001b[36mFile \u001b[39m\u001b[32mD:\\PySpace\\PythonMachineLearn\\.venv\\Lib\\site-packages\\sklearn\\pipeline.py:1551\u001b[39m, in \u001b[36m_fit_transform_one\u001b[39m\u001b[34m(transformer, X, y, weight, message_clsname, message, params)\u001b[39m\n\u001b[32m   1549\u001b[39m \u001b[38;5;28;01mwith\u001b[39;00m _print_elapsed_time(message_clsname, message):\n\u001b[32m   1550\u001b[39m     \u001b[38;5;28;01mif\u001b[39;00m \u001b[38;5;28mhasattr\u001b[39m(transformer, \u001b[33m\"\u001b[39m\u001b[33mfit_transform\u001b[39m\u001b[33m\"\u001b[39m):\n\u001b[32m-> \u001b[39m\u001b[32m1551\u001b[39m         res = \u001b[43mtransformer\u001b[49m\u001b[43m.\u001b[49m\u001b[43mfit_transform\u001b[49m\u001b[43m(\u001b[49m\u001b[43mX\u001b[49m\u001b[43m,\u001b[49m\u001b[43m \u001b[49m\u001b[43my\u001b[49m\u001b[43m,\u001b[49m\u001b[43m \u001b[49m\u001b[43m*\u001b[49m\u001b[43m*\u001b[49m\u001b[43mparams\u001b[49m\u001b[43m.\u001b[49m\u001b[43mget\u001b[49m\u001b[43m(\u001b[49m\u001b[33;43m\"\u001b[39;49m\u001b[33;43mfit_transform\u001b[39;49m\u001b[33;43m\"\u001b[39;49m\u001b[43m,\u001b[49m\u001b[43m \u001b[49m\u001b[43m{\u001b[49m\u001b[43m}\u001b[49m\u001b[43m)\u001b[49m\u001b[43m)\u001b[49m\n\u001b[32m   1552\u001b[39m     \u001b[38;5;28;01melse\u001b[39;00m:\n\u001b[32m   1553\u001b[39m         res = transformer.fit(X, y, **params.get(\u001b[33m\"\u001b[39m\u001b[33mfit\u001b[39m\u001b[33m\"\u001b[39m, {})).transform(\n\u001b[32m   1554\u001b[39m             X, **params.get(\u001b[33m\"\u001b[39m\u001b[33mtransform\u001b[39m\u001b[33m\"\u001b[39m, {})\n\u001b[32m   1555\u001b[39m         )\n",
      "\u001b[36mFile \u001b[39m\u001b[32mD:\\PySpace\\PythonMachineLearn\\.venv\\Lib\\site-packages\\sklearn\\utils\\_set_output.py:319\u001b[39m, in \u001b[36m_wrap_method_output.<locals>.wrapped\u001b[39m\u001b[34m(self, X, *args, **kwargs)\u001b[39m\n\u001b[32m    317\u001b[39m \u001b[38;5;129m@wraps\u001b[39m(f)\n\u001b[32m    318\u001b[39m \u001b[38;5;28;01mdef\u001b[39;00m\u001b[38;5;250m \u001b[39m\u001b[34mwrapped\u001b[39m(\u001b[38;5;28mself\u001b[39m, X, *args, **kwargs):\n\u001b[32m--> \u001b[39m\u001b[32m319\u001b[39m     data_to_wrap = \u001b[43mf\u001b[49m\u001b[43m(\u001b[49m\u001b[38;5;28;43mself\u001b[39;49m\u001b[43m,\u001b[49m\u001b[43m \u001b[49m\u001b[43mX\u001b[49m\u001b[43m,\u001b[49m\u001b[43m \u001b[49m\u001b[43m*\u001b[49m\u001b[43margs\u001b[49m\u001b[43m,\u001b[49m\u001b[43m \u001b[49m\u001b[43m*\u001b[49m\u001b[43m*\u001b[49m\u001b[43mkwargs\u001b[49m\u001b[43m)\u001b[49m\n\u001b[32m    320\u001b[39m     \u001b[38;5;28;01mif\u001b[39;00m \u001b[38;5;28misinstance\u001b[39m(data_to_wrap, \u001b[38;5;28mtuple\u001b[39m):\n\u001b[32m    321\u001b[39m         \u001b[38;5;66;03m# only wrap the first output for cross decomposition\u001b[39;00m\n\u001b[32m    322\u001b[39m         return_tuple = (\n\u001b[32m    323\u001b[39m             _wrap_data_with_container(method, data_to_wrap[\u001b[32m0\u001b[39m], X, \u001b[38;5;28mself\u001b[39m),\n\u001b[32m    324\u001b[39m             *data_to_wrap[\u001b[32m1\u001b[39m:],\n\u001b[32m    325\u001b[39m         )\n",
      "\u001b[36mFile \u001b[39m\u001b[32mD:\\PySpace\\PythonMachineLearn\\.venv\\Lib\\site-packages\\sklearn\\base.py:918\u001b[39m, in \u001b[36mTransformerMixin.fit_transform\u001b[39m\u001b[34m(self, X, y, **fit_params)\u001b[39m\n\u001b[32m    903\u001b[39m         warnings.warn(\n\u001b[32m    904\u001b[39m             (\n\u001b[32m    905\u001b[39m                 \u001b[33mf\u001b[39m\u001b[33m\"\u001b[39m\u001b[33mThis object (\u001b[39m\u001b[38;5;132;01m{\u001b[39;00m\u001b[38;5;28mself\u001b[39m.\u001b[34m__class__\u001b[39m.\u001b[34m__name__\u001b[39m\u001b[38;5;132;01m}\u001b[39;00m\u001b[33m) has a `transform`\u001b[39m\u001b[33m\"\u001b[39m\n\u001b[32m   (...)\u001b[39m\u001b[32m    913\u001b[39m             \u001b[38;5;167;01mUserWarning\u001b[39;00m,\n\u001b[32m    914\u001b[39m         )\n\u001b[32m    916\u001b[39m \u001b[38;5;28;01mif\u001b[39;00m y \u001b[38;5;129;01mis\u001b[39;00m \u001b[38;5;28;01mNone\u001b[39;00m:\n\u001b[32m    917\u001b[39m     \u001b[38;5;66;03m# fit method of arity 1 (unsupervised transformation)\u001b[39;00m\n\u001b[32m--> \u001b[39m\u001b[32m918\u001b[39m     \u001b[38;5;28;01mreturn\u001b[39;00m \u001b[38;5;28;43mself\u001b[39;49m\u001b[43m.\u001b[49m\u001b[43mfit\u001b[49m\u001b[43m(\u001b[49m\u001b[43mX\u001b[49m\u001b[43m,\u001b[49m\u001b[43m \u001b[49m\u001b[43m*\u001b[49m\u001b[43m*\u001b[49m\u001b[43mfit_params\u001b[49m\u001b[43m)\u001b[49m.transform(X)\n\u001b[32m    919\u001b[39m \u001b[38;5;28;01melse\u001b[39;00m:\n\u001b[32m    920\u001b[39m     \u001b[38;5;66;03m# fit method of arity 2 (supervised transformation)\u001b[39;00m\n\u001b[32m    921\u001b[39m     \u001b[38;5;28;01mreturn\u001b[39;00m \u001b[38;5;28mself\u001b[39m.fit(X, y, **fit_params).transform(X)\n",
      "\u001b[36mFile \u001b[39m\u001b[32mD:\\PySpace\\PythonMachineLearn\\.venv\\Lib\\site-packages\\sklearn\\base.py:1389\u001b[39m, in \u001b[36m_fit_context.<locals>.decorator.<locals>.wrapper\u001b[39m\u001b[34m(estimator, *args, **kwargs)\u001b[39m\n\u001b[32m   1382\u001b[39m     estimator._validate_params()\n\u001b[32m   1384\u001b[39m \u001b[38;5;28;01mwith\u001b[39;00m config_context(\n\u001b[32m   1385\u001b[39m     skip_parameter_validation=(\n\u001b[32m   1386\u001b[39m         prefer_skip_nested_validation \u001b[38;5;129;01mor\u001b[39;00m global_skip_validation\n\u001b[32m   1387\u001b[39m     )\n\u001b[32m   1388\u001b[39m ):\n\u001b[32m-> \u001b[39m\u001b[32m1389\u001b[39m     \u001b[38;5;28;01mreturn\u001b[39;00m \u001b[43mfit_method\u001b[49m\u001b[43m(\u001b[49m\u001b[43mestimator\u001b[49m\u001b[43m,\u001b[49m\u001b[43m \u001b[49m\u001b[43m*\u001b[49m\u001b[43margs\u001b[49m\u001b[43m,\u001b[49m\u001b[43m \u001b[49m\u001b[43m*\u001b[49m\u001b[43m*\u001b[49m\u001b[43mkwargs\u001b[49m\u001b[43m)\u001b[49m\n",
      "\u001b[36mFile \u001b[39m\u001b[32mD:\\PySpace\\PythonMachineLearn\\.venv\\Lib\\site-packages\\sklearn\\impute\\_base.py:434\u001b[39m, in \u001b[36mSimpleImputer.fit\u001b[39m\u001b[34m(self, X, y)\u001b[39m\n\u001b[32m    416\u001b[39m \u001b[38;5;129m@_fit_context\u001b[39m(prefer_skip_nested_validation=\u001b[38;5;28;01mTrue\u001b[39;00m)\n\u001b[32m    417\u001b[39m \u001b[38;5;28;01mdef\u001b[39;00m\u001b[38;5;250m \u001b[39m\u001b[34mfit\u001b[39m(\u001b[38;5;28mself\u001b[39m, X, y=\u001b[38;5;28;01mNone\u001b[39;00m):\n\u001b[32m    418\u001b[39m \u001b[38;5;250m    \u001b[39m\u001b[33;03m\"\"\"Fit the imputer on `X`.\u001b[39;00m\n\u001b[32m    419\u001b[39m \n\u001b[32m    420\u001b[39m \u001b[33;03m    Parameters\u001b[39;00m\n\u001b[32m   (...)\u001b[39m\u001b[32m    432\u001b[39m \u001b[33;03m        Fitted estimator.\u001b[39;00m\n\u001b[32m    433\u001b[39m \u001b[33;03m    \"\"\"\u001b[39;00m\n\u001b[32m--> \u001b[39m\u001b[32m434\u001b[39m     X = \u001b[38;5;28;43mself\u001b[39;49m\u001b[43m.\u001b[49m\u001b[43m_validate_input\u001b[49m\u001b[43m(\u001b[49m\u001b[43mX\u001b[49m\u001b[43m,\u001b[49m\u001b[43m \u001b[49m\u001b[43min_fit\u001b[49m\u001b[43m=\u001b[49m\u001b[38;5;28;43;01mTrue\u001b[39;49;00m\u001b[43m)\u001b[49m\n\u001b[32m    436\u001b[39m     \u001b[38;5;66;03m# default fill_value is 0 for numerical input and \"missing_value\"\u001b[39;00m\n\u001b[32m    437\u001b[39m     \u001b[38;5;66;03m# otherwise\u001b[39;00m\n\u001b[32m    438\u001b[39m     \u001b[38;5;28;01mif\u001b[39;00m \u001b[38;5;28mself\u001b[39m.fill_value \u001b[38;5;129;01mis\u001b[39;00m \u001b[38;5;28;01mNone\u001b[39;00m:\n",
      "\u001b[36mFile \u001b[39m\u001b[32mD:\\PySpace\\PythonMachineLearn\\.venv\\Lib\\site-packages\\sklearn\\impute\\_base.py:371\u001b[39m, in \u001b[36mSimpleImputer._validate_input\u001b[39m\u001b[34m(self, X, in_fit)\u001b[39m\n\u001b[32m    369\u001b[39m _check_inputs_dtype(X, \u001b[38;5;28mself\u001b[39m.missing_values)\n\u001b[32m    370\u001b[39m \u001b[38;5;28;01mif\u001b[39;00m X.dtype.kind \u001b[38;5;129;01mnot\u001b[39;00m \u001b[38;5;129;01min\u001b[39;00m (\u001b[33m\"\u001b[39m\u001b[33mi\u001b[39m\u001b[33m\"\u001b[39m, \u001b[33m\"\u001b[39m\u001b[33mu\u001b[39m\u001b[33m\"\u001b[39m, \u001b[33m\"\u001b[39m\u001b[33mf\u001b[39m\u001b[33m\"\u001b[39m, \u001b[33m\"\u001b[39m\u001b[33mO\u001b[39m\u001b[33m\"\u001b[39m):\n\u001b[32m--> \u001b[39m\u001b[32m371\u001b[39m     \u001b[38;5;28;01mraise\u001b[39;00m \u001b[38;5;167;01mValueError\u001b[39;00m(\n\u001b[32m    372\u001b[39m         \u001b[33m\"\u001b[39m\u001b[33mSimpleImputer does not support data with dtype \u001b[39m\u001b[33m\"\u001b[39m\n\u001b[32m    373\u001b[39m         \u001b[33m\"\u001b[39m\u001b[38;5;132;01m{0}\u001b[39;00m\u001b[33m. Please provide either a numeric array (with\u001b[39m\u001b[33m\"\u001b[39m\n\u001b[32m    374\u001b[39m         \u001b[33m\"\u001b[39m\u001b[33m a floating point or integer dtype) or \u001b[39m\u001b[33m\"\u001b[39m\n\u001b[32m    375\u001b[39m         \u001b[33m\"\u001b[39m\u001b[33mcategorical data represented either as an array \u001b[39m\u001b[33m\"\u001b[39m\n\u001b[32m    376\u001b[39m         \u001b[33m\"\u001b[39m\u001b[33mwith integer dtype or an array of string values \u001b[39m\u001b[33m\"\u001b[39m\n\u001b[32m    377\u001b[39m         \u001b[33m\"\u001b[39m\u001b[33mwith an object dtype.\u001b[39m\u001b[33m\"\u001b[39m.format(X.dtype)\n\u001b[32m    378\u001b[39m     )\n\u001b[32m    380\u001b[39m \u001b[38;5;28;01mif\u001b[39;00m sp.issparse(X) \u001b[38;5;129;01mand\u001b[39;00m \u001b[38;5;28mself\u001b[39m.missing_values == \u001b[32m0\u001b[39m:\n\u001b[32m    381\u001b[39m     \u001b[38;5;66;03m# missing_values = 0 not allowed with sparse data as it would\u001b[39;00m\n\u001b[32m    382\u001b[39m     \u001b[38;5;66;03m# force densification\u001b[39;00m\n\u001b[32m    383\u001b[39m     \u001b[38;5;28;01mraise\u001b[39;00m \u001b[38;5;167;01mValueError\u001b[39;00m(\n\u001b[32m    384\u001b[39m         \u001b[33m\"\u001b[39m\u001b[33mImputation not possible when missing_values \u001b[39m\u001b[33m\"\u001b[39m\n\u001b[32m    385\u001b[39m         \u001b[33m\"\u001b[39m\u001b[33m== 0 and input is sparse. Provide a dense \u001b[39m\u001b[33m\"\u001b[39m\n\u001b[32m    386\u001b[39m         \u001b[33m\"\u001b[39m\u001b[33marray instead.\u001b[39m\u001b[33m\"\u001b[39m\n\u001b[32m    387\u001b[39m     )\n",
      "\u001b[31mValueError\u001b[39m: SimpleImputer does not support data with dtype <U32. Please provide either a numeric array (with a floating point or integer dtype) or categorical data represented either as an array with integer dtype or an array of string values with an object dtype."
     ]
    }
   ],
   "source": [
    "from sklearn.compose import ColumnTransformer\n",
    "\n",
    "# 示例数据（包含数值和分类特征）\n",
    "X_mixed = np.array([\n",
    "    [1000, \"A\", np.nan],\n",
    "    [2000, np.nan, 6],\n",
    "    [np.nan, \"A\", 9]\n",
    "])\n",
    "\n",
    "# 分别处理数值列和分类列\n",
    "preprocessor = ColumnTransformer(\n",
    "    transformers=[\n",
    "        ('num', SimpleImputer(strategy='mean'), [0, 2]),  # 数值列\n",
    "        ('cat', SimpleImputer(strategy='most_frequent'), [1])  # 分类列\n",
    "    ]\n",
    ")\n",
    "\n",
    "X_mixed_imputed = preprocessor.fit_transform(X_mixed)\n",
    "print(\"\\n混合数据插补结果：\")\n",
    "print(X_mixed_imputed)\n",
    "# 输出：\n",
    "# [[1000.    'A'    7.5]\n",
    "#  [2000.    'A'    6. ]\n",
    "#  [1500.    'A'    9. ]]"
   ]
  },
  {
   "cell_type": "markdown",
   "id": "5b7b371c-9328-41b5-86e5-c33abdb469d2",
   "metadata": {},
   "source": [
    "## 五、最佳实践建议"
   ]
  },
  {
   "cell_type": "markdown",
   "id": "953b918a-f981-4a7d-abab-f206806ab6c9",
   "metadata": {},
   "source": [
    "1. 数值型数据：\n",
    " * 数据分布对称：使用均值插补。\n",
    " * 数据偏态或含异常值：使用中位数插补。\n",
    "2. 分类 / 文本数据：\n",
    " * 类别分布均衡：使用众数插补。\n",
    " * 缺失率高：考虑使用 'constant' 并自定义填充值（如 'missing'）。\n",
    "3. 保留缺失信息：\n",
    " * 当缺失本身可能是重要特征时（如用户未填写某些字段），添加指示符列。\n",
    "4. 与 Pipeline 集成："
   ]
  },
  {
   "cell_type": "code",
   "execution_count": 7,
   "id": "3c2e6536-fd91-44e4-b96a-e9eb2998161b",
   "metadata": {},
   "outputs": [
    {
     "ename": "NameError",
     "evalue": "name 'StandardScaler' is not defined",
     "output_type": "error",
     "traceback": [
      "\u001b[31m---------------------------------------------------------------------------\u001b[39m",
      "\u001b[31mNameError\u001b[39m                                 Traceback (most recent call last)",
      "\u001b[36mCell\u001b[39m\u001b[36m \u001b[39m\u001b[32mIn[7]\u001b[39m\u001b[32m, line 5\u001b[39m\n\u001b[32m      1\u001b[39m \u001b[38;5;28;01mfrom\u001b[39;00m\u001b[38;5;250m \u001b[39m\u001b[34;01msklearn\u001b[39;00m\u001b[34;01m.\u001b[39;00m\u001b[34;01mpipeline\u001b[39;00m\u001b[38;5;250m \u001b[39m\u001b[38;5;28;01mimport\u001b[39;00m Pipeline\n\u001b[32m      3\u001b[39m pipeline = Pipeline([\n\u001b[32m      4\u001b[39m     (\u001b[33m'\u001b[39m\u001b[33mimpute\u001b[39m\u001b[33m'\u001b[39m, SimpleImputer(strategy=\u001b[33m'\u001b[39m\u001b[33mmedian\u001b[39m\u001b[33m'\u001b[39m)),\n\u001b[32m----> \u001b[39m\u001b[32m5\u001b[39m     (\u001b[33m'\u001b[39m\u001b[33mscale\u001b[39m\u001b[33m'\u001b[39m, \u001b[43mStandardScaler\u001b[49m()),\n\u001b[32m      6\u001b[39m     (\u001b[33m'\u001b[39m\u001b[33mmodel\u001b[39m\u001b[33m'\u001b[39m, RandomForestClassifier())\n\u001b[32m      7\u001b[39m ])\n",
      "\u001b[31mNameError\u001b[39m: name 'StandardScaler' is not defined"
     ]
    }
   ],
   "source": [
    "from sklearn.pipeline import Pipeline\n",
    "\n",
    "pipeline = Pipeline([\n",
    "    ('impute', SimpleImputer(strategy='median')),\n",
    "    ('scale', StandardScaler()),\n",
    "    ('model', RandomForestClassifier())\n",
    "])"
   ]
  },
  {
   "cell_type": "code",
   "execution_count": null,
   "id": "54608095-453d-4be9-bdc3-75a2b3e1d713",
   "metadata": {},
   "outputs": [],
   "source": []
  }
 ],
 "metadata": {
  "kernelspec": {
   "display_name": "Python 3 (ipykernel)",
   "language": "python",
   "name": "python3"
  },
  "language_info": {
   "codemirror_mode": {
    "name": "ipython",
    "version": 3
   },
   "file_extension": ".py",
   "mimetype": "text/x-python",
   "name": "python",
   "nbconvert_exporter": "python",
   "pygments_lexer": "ipython3",
   "version": "3.11.6"
  }
 },
 "nbformat": 4,
 "nbformat_minor": 5
}
