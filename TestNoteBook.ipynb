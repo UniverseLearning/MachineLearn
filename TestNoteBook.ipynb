{
 "cells": [
  {
   "cell_type": "code",
   "execution_count": 1,
   "id": "1b6c5503-bbef-4a64-8902-7378f0c1f7cb",
   "metadata": {},
   "outputs": [
    {
     "name": "stdout",
     "output_type": "stream",
     "text": [
      "原始数据:\n",
      "\tgender\teducation\tmarital_status\tage\tincome\n",
      "0\tMale\tBachelor's\tMarried\t25\t50000\n",
      "1\tFemale\tMaster's\tSingle\t30\t75000\n",
      "2\tMale\tHigh School\tDivorced\t45\t60000\n",
      "3\tOther\tPhD\tMarried\t35\t90000\n",
      "4\tFemale\tBachelor's\tSingle\t28\t55000\n",
      "\n",
      "\n",
      "编码后的数据:\n",
      "\tgender_Female\tgender_Male\tgender_Other\teducation_Bachelor's\teducation_High School\teducation_Master's\teducation_PhD\tmarital_status_Divorced\tmarital_status_Married\tmarital_status_Single\tage\tincome\n",
      "0\t0\t1\t0\t1\t0\t0\t0\t0\t1\t0\t25\t50000\n",
      "1\t1\t0\t0\t0\t0\t1\t0\t0\t0\t1\t30\t75000\n",
      "2\t0\t1\t0\t0\t1\t0\t0\t1\t0\t0\t45\t60000\n",
      "3\t0\t0\t1\t0\t0\t0\t1\t0\t1\t0\t35\t90000\n",
      "4\t1\t0\t0\t1\t0\t0\t0\t0\t0\t1\t28\t55000\n",
      "\n",
      "\n",
      "特征名称映射:\n",
      "gender: Female, Male, Other\n",
      "education: Bachelor's, High School, Master's, PhD\n",
      "marital_status: Divorced, Married, Single\n"
     ]
    }
   ],
   "source": [
    "import numpy as np\n",
    "import pandas as pd\n",
    "from sklearn.preprocessing import OneHotEncoder\n",
    "\n",
    "# 创建示例数据集\n",
    "data = pd.DataFrame({\n",
    "    'gender': ['Male', 'Female', 'Male', 'Other', 'Female'],\n",
    "    'education': [\"Bachelor's\", \"Master's\", \"High School\", \"PhD\", \"Bachelor's\"],\n",
    "    'marital_status': ['Married', 'Single', 'Divorced', 'Married', 'Single'],\n",
    "    'age': [25, 30, 45, 35, 28],\n",
    "    'income': [50000, 75000, 60000, 90000, 55000],\n",
    "    'purchased': [0, 1, 0, 1, 0]\n",
    "})\n",
    "\n",
    "# 分离特征和目标变量\n",
    "X = data.drop('purchased', axis=1)\n",
    "y = data['purchased']\n",
    "\n",
    "# 分离分类特征和数值特征\n",
    "categorical_cols = ['gender', 'education', 'marital_status']\n",
    "numeric_cols = ['age', 'income']\n",
    "\n",
    "# 创建 OneHotEncoder 实例\n",
    "encoder = OneHotEncoder(\n",
    "    handle_unknown='ignore',  # 忽略未知类别\n",
    "    sparse_output=False,      # 返回密集数组而非稀疏矩阵\n",
    "    dtype=np.int32            # 设置输出类型为整数\n",
    ")\n",
    "\n",
    "# 对分类特征进行独热编码\n",
    "X_categorical_encoded = encoder.fit_transform(X[categorical_cols])\n",
    "\n",
    "# 将编码后的分类特征转换为 DataFrame\n",
    "encoded_df = pd.DataFrame(\n",
    "    X_categorical_encoded,\n",
    "    columns=encoder.get_feature_names_out(categorical_cols)\n",
    ")\n",
    "\n",
    "# 将数值特征与编码后的分类特征合并\n",
    "X_encoded = pd.concat([encoded_df, X[numeric_cols].reset_index(drop=True)], axis=1)\n",
    "\n",
    "# 显示原始数据和编码后的数据\n",
    "print(\"原始数据:\")\n",
    "print(X.to_csv(sep='\\t', na_rep='nan'))\n",
    "\n",
    "print(\"\\n编码后的数据:\")\n",
    "print(X_encoded.to_csv(sep='\\t', na_rep='nan'))\n",
    "\n",
    "print(\"\\n特征名称映射:\")\n",
    "for feature, categories in zip(categorical_cols, encoder.categories_):\n",
    "    print(f\"{feature}: {', '.join(categories)}\")"
   ]
  },
  {
   "cell_type": "code",
   "execution_count": null,
   "id": "0c1ff4bd-e62d-43cc-854f-9d69ea06e28f",
   "metadata": {},
   "outputs": [],
   "source": []
  }
 ],
 "metadata": {
  "kernelspec": {
   "display_name": "Python 3 (ipykernel)",
   "language": "python",
   "name": "python3"
  },
  "language_info": {
   "codemirror_mode": {
    "name": "ipython",
    "version": 3
   },
   "file_extension": ".py",
   "mimetype": "text/x-python",
   "name": "python",
   "nbconvert_exporter": "python",
   "pygments_lexer": "ipython3",
   "version": "3.11.6"
  }
 },
 "nbformat": 4,
 "nbformat_minor": 5
}
